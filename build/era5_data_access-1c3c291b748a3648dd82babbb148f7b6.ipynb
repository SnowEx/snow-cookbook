{
 "cells": [
  {
   "cell_type": "markdown",
   "id": "6c47f8ef-1c7d-4693-892c-29d2efceab9e",
   "metadata": {},
   "source": [
    "# ERA5 \n",
    "\n",
    "This is a script designed to obtain snow data from the ERA5 reanalysis product. We will be using the Copernicus API to get global, daily snow cover and snow depth information.\n",
    "\n",
    "This code is adapted from Tasha Snow's ERA5 downloading script: https://github.com/tsnow03/Landsat_SST_algorithm/blob/main/ERADownload.ipynb\n",
    "\n",
    "The Copernicus Climate Data Store (CDS) API is not on CryoCloud by default, so the following cell needs to be run, followed by restarting the kernel."
   ]
  },
  {
   "cell_type": "markdown",
   "id": "ce2004ed-d591-4f36-827e-7ef00e57d01c",
   "metadata": {},
   "source": [
    "To use the CDS API, the user needs credentials to the Copernicus Climate Data Store (CDS). Upon getting a user ID (`uid`) and an API key (`api-key`), they need to run the following cell (skip if you already have `./cdsapirc` in the `/home/jovyan/` directory)."
   ]
  },
  {
   "cell_type": "code",
   "execution_count": null,
   "id": "2c8c707e-6306-42a2-a668-ff48cac57a00",
   "metadata": {},
   "outputs": [],
   "source": [
    "# !echo url: https://cds.climate.copernicus.eu/api/v2 >> /home/jovyan/.cdsapirc\n",
    "# !echo key: {uid}:{api-key} >> /home/jovyan/.cdsapirc"
   ]
  },
  {
   "cell_type": "code",
   "execution_count": 1,
   "id": "51652349-27fb-4da4-8747-0f5b1cf3dafb",
   "metadata": {},
   "outputs": [],
   "source": [
    "from ecmwfapi import ECMWFDataServer # Need a ecmwf user name and password first\n",
    "import cdsapi"
   ]
  },
  {
   "cell_type": "markdown",
   "id": "881d22eb-92db-4e93-8a27-c33e343983a2",
   "metadata": {},
   "source": [
    "The CDS API can be a bit picky with inputs from ERA5, so first-time users are encouraged to use the online request form (https://cds.climate.copernicus.eu/datasets/reanalysis-era5-single-levels?tab=download) to automatically generate a code for their API request, to ensure that the syntax is correct.\n",
    "\n",
    "The below functions retrieve ERA5 snow depth and snow density and download them to a `tmp/` folder. Additional parameters to consider:\n",
    "* `yearStart` and `yearEnd`: Start and end year.\n",
    "* `monthStart` and `monthEnd`: Start and end month.\n",
    "* `dayStart` and `dayEnd`: Start and end day.\n",
    "\n",
    "The function currently grabs daily data from March 1, 2020 - April 30, 2020 at 12:00 UTC each day, and downloads as daily netCDF files. Because ERA5 is generated hourly, users can expand the `time` entry to include more hours per day."
   ]
  },
  {
   "cell_type": "code",
   "execution_count": 15,
   "id": "d10ef511-edcb-467f-975b-bcbd7f5a2652",
   "metadata": {
    "scrolled": true
   },
   "outputs": [
    {
     "name": "stderr",
     "output_type": "stream",
     "text": [
      "2025-08-21 15:37:07,794 INFO [2024-09-26T00:00:00] Watch our [Forum](https://forum.ecmwf.int/) for Announcements, news and other discussed topics.\n",
      "2025-08-21 15:37:08,455 INFO Request ID is 426af594-946b-43ed-8904-5e6b422d32e9\n",
      "2025-08-21 15:37:08,842 INFO status has been updated to accepted\n",
      "2025-08-21 15:37:23,259 INFO status has been updated to successful\n"
     ]
    },
    {
     "data": {
      "application/vnd.jupyter.widget-view+json": {
       "model_id": "1cbc0a77ead2484298803162aa963f4e",
       "version_major": 2,
       "version_minor": 0
      },
      "text/plain": [
       "f5fc668f99fa433c22c9ea79bae5547f.zip:   0%|          | 0.00/2.63M [00:00<?, ?B/s]"
      ]
     },
     "metadata": {},
     "output_type": "display_data"
    },
    {
     "name": "stderr",
     "output_type": "stream",
     "text": [
      "2025-08-21 15:37:27,712 INFO Request ID is e70437ae-c3f9-4286-a19e-c6884775544c\n",
      "2025-08-21 15:37:27,902 INFO status has been updated to accepted\n",
      "2025-08-21 15:37:42,094 INFO status has been updated to successful\n"
     ]
    },
    {
     "data": {
      "application/vnd.jupyter.widget-view+json": {
       "model_id": "2f566660f19440cd9ff96357301aeca2",
       "version_major": 2,
       "version_minor": 0
      },
      "text/plain": [
       "b66a28473b13ee15f79e053bbffc4651.zip:   0%|          | 0.00/2.62M [00:00<?, ?B/s]"
      ]
     },
     "metadata": {},
     "output_type": "display_data"
    },
    {
     "name": "stderr",
     "output_type": "stream",
     "text": [
      "2025-08-21 15:37:45,463 INFO Request ID is 6583174f-8e3f-4ecc-9179-425ca02e7eb7\n",
      "2025-08-21 15:37:45,635 INFO status has been updated to accepted\n",
      "2025-08-21 15:37:54,513 INFO status has been updated to running\n",
      "2025-08-21 15:37:59,761 INFO status has been updated to successful\n"
     ]
    },
    {
     "data": {
      "application/vnd.jupyter.widget-view+json": {
       "model_id": "d97e822274fc4fb1aacf825da56b85d3",
       "version_major": 2,
       "version_minor": 0
      },
      "text/plain": [
       "9cb04ee28e528934597a0d30ec0a4a0a.zip:   0%|          | 0.00/2.60M [00:00<?, ?B/s]"
      ]
     },
     "metadata": {},
     "output_type": "display_data"
    },
    {
     "name": "stderr",
     "output_type": "stream",
     "text": [
      "2025-08-21 15:38:02,928 INFO Request ID is 502dea69-f4cf-4121-a17a-10005b71e819\n",
      "2025-08-21 15:38:03,105 INFO status has been updated to accepted\n",
      "2025-08-21 15:38:17,245 INFO status has been updated to successful\n"
     ]
    },
    {
     "data": {
      "application/vnd.jupyter.widget-view+json": {
       "model_id": "8fae41d6f0a241b0a5fdc9f3106a77c1",
       "version_major": 2,
       "version_minor": 0
      },
      "text/plain": [
       "421312261b53bb75e7b54ffbfc08e7fd.zip:   0%|          | 0.00/2.58M [00:00<?, ?B/s]"
      ]
     },
     "metadata": {},
     "output_type": "display_data"
    },
    {
     "name": "stderr",
     "output_type": "stream",
     "text": [
      "2025-08-21 15:38:20,447 INFO Request ID is b3b3efcb-fc66-4e73-9235-4362710f58f6\n",
      "2025-08-21 15:38:20,698 INFO status has been updated to accepted\n",
      "2025-08-21 15:38:29,626 INFO status has been updated to running\n",
      "2025-08-21 15:38:34,883 INFO status has been updated to successful\n"
     ]
    },
    {
     "data": {
      "application/vnd.jupyter.widget-view+json": {
       "model_id": "73c3fd174d0444daa3d98476adba1d2a",
       "version_major": 2,
       "version_minor": 0
      },
      "text/plain": [
       "1e6e6926e2f70ae589073cc405506899.zip:   0%|          | 0.00/2.56M [00:00<?, ?B/s]"
      ]
     },
     "metadata": {},
     "output_type": "display_data"
    },
    {
     "name": "stderr",
     "output_type": "stream",
     "text": [
      "2025-08-21 15:38:38,759 INFO Request ID is 17ae3a3c-f6ba-40d1-ab2b-9f60faf36f64\n",
      "2025-08-21 15:38:39,020 INFO status has been updated to accepted\n",
      "2025-08-21 15:38:53,454 INFO status has been updated to running\n",
      "2025-08-21 15:39:01,287 INFO status has been updated to successful\n"
     ]
    },
    {
     "data": {
      "application/vnd.jupyter.widget-view+json": {
       "model_id": "fad96190e2964ea2af38fc89d3ef266f",
       "version_major": 2,
       "version_minor": 0
      },
      "text/plain": [
       "c3bc24ac62fe82da3cb980fa822c66cc.zip:   0%|          | 0.00/2.55M [00:00<?, ?B/s]"
      ]
     },
     "metadata": {},
     "output_type": "display_data"
    },
    {
     "name": "stderr",
     "output_type": "stream",
     "text": [
      "2025-08-21 15:39:05,132 INFO Request ID is 96453808-11e2-42dc-a4e9-cae0c209346b\n",
      "2025-08-21 15:39:05,313 INFO status has been updated to accepted\n",
      "2025-08-21 15:39:19,470 INFO status has been updated to successful\n"
     ]
    },
    {
     "data": {
      "application/vnd.jupyter.widget-view+json": {
       "model_id": "7494c474af7d4e718a5e6a2997d2ea0a",
       "version_major": 2,
       "version_minor": 0
      },
      "text/plain": [
       "c90a704e9cd63b205c1f4ec3c14d382d.zip:   0%|          | 0.00/2.54M [00:00<?, ?B/s]"
      ]
     },
     "metadata": {},
     "output_type": "display_data"
    },
    {
     "name": "stderr",
     "output_type": "stream",
     "text": [
      "2025-08-21 15:39:23,061 INFO Request ID is e0e64efa-91b0-4bce-80eb-8be2477fa4f9\n",
      "2025-08-21 15:39:23,249 INFO status has been updated to accepted\n",
      "2025-08-21 15:39:32,603 INFO status has been updated to running\n",
      "2025-08-21 15:39:38,036 INFO status has been updated to successful\n"
     ]
    },
    {
     "data": {
      "application/vnd.jupyter.widget-view+json": {
       "model_id": "3dd3e1aaa58f4f1b8dd12f0a3dd7fbf3",
       "version_major": 2,
       "version_minor": 0
      },
      "text/plain": [
       "ac01451f5ad656331f1502c55f9f7237.zip:   0%|          | 0.00/2.54M [00:00<?, ?B/s]"
      ]
     },
     "metadata": {},
     "output_type": "display_data"
    },
    {
     "name": "stderr",
     "output_type": "stream",
     "text": [
      "2025-08-21 15:39:41,837 INFO Request ID is 220841b4-6980-4800-8570-bc037e8fe711\n",
      "2025-08-21 15:39:42,077 INFO status has been updated to accepted\n",
      "2025-08-21 15:39:51,377 INFO status has been updated to running\n",
      "2025-08-21 15:39:56,659 INFO status has been updated to successful\n"
     ]
    },
    {
     "data": {
      "application/vnd.jupyter.widget-view+json": {
       "model_id": "5fb81a3ea5e94229a362a84aeb1cc329",
       "version_major": 2,
       "version_minor": 0
      },
      "text/plain": [
       "6618e9797462db92592bcffc69a46613.zip:   0%|          | 0.00/2.54M [00:00<?, ?B/s]"
      ]
     },
     "metadata": {},
     "output_type": "display_data"
    },
    {
     "name": "stderr",
     "output_type": "stream",
     "text": [
      "2025-08-21 15:40:00,114 INFO Request ID is d613f643-4f9f-4044-b005-7ccc192941c8\n",
      "2025-08-21 15:40:00,288 INFO status has been updated to accepted\n",
      "2025-08-21 15:40:14,612 INFO status has been updated to successful\n"
     ]
    },
    {
     "data": {
      "application/vnd.jupyter.widget-view+json": {
       "model_id": "b05f3c2c08384a85bf6b4f07e75e43e9",
       "version_major": 2,
       "version_minor": 0
      },
      "text/plain": [
       "89c296ad2ea1011f813e38bea837c667.zip:   0%|          | 0.00/2.53M [00:00<?, ?B/s]"
      ]
     },
     "metadata": {},
     "output_type": "display_data"
    },
    {
     "name": "stderr",
     "output_type": "stream",
     "text": [
      "2025-08-21 15:40:17,865 INFO Request ID is 1bdd0095-c432-4714-94f9-49cd0c54ca44\n",
      "2025-08-21 15:40:18,113 INFO status has been updated to accepted\n",
      "2025-08-21 15:40:32,463 INFO status has been updated to running\n",
      "2025-08-21 15:40:40,859 INFO status has been updated to successful\n"
     ]
    },
    {
     "data": {
      "application/vnd.jupyter.widget-view+json": {
       "model_id": "f73a7ed2ff67429d9dcdd70942e3e3e7",
       "version_major": 2,
       "version_minor": 0
      },
      "text/plain": [
       "2efb330354b85153593086ed13218576.zip:   0%|          | 0.00/2.51M [00:00<?, ?B/s]"
      ]
     },
     "metadata": {},
     "output_type": "display_data"
    },
    {
     "name": "stderr",
     "output_type": "stream",
     "text": [
      "2025-08-21 15:40:45,049 INFO Request ID is 1ec3d1cb-3ef9-4385-8feb-591f67b56ef8\n",
      "2025-08-21 15:40:45,229 INFO status has been updated to accepted\n",
      "2025-08-21 15:40:54,196 INFO status has been updated to running\n",
      "2025-08-21 15:40:59,532 INFO status has been updated to successful\n"
     ]
    },
    {
     "data": {
      "application/vnd.jupyter.widget-view+json": {
       "model_id": "76ac52f0f7194286b57e8b2609c282b4",
       "version_major": 2,
       "version_minor": 0
      },
      "text/plain": [
       "2a28600a4214f90ba9512beff7244410.zip:   0%|          | 0.00/2.49M [00:00<?, ?B/s]"
      ]
     },
     "metadata": {},
     "output_type": "display_data"
    },
    {
     "name": "stderr",
     "output_type": "stream",
     "text": [
      "2025-08-21 15:41:02,953 INFO Request ID is fb369ae2-0ffd-4251-98db-514afacd0d41\n",
      "2025-08-21 15:41:03,203 INFO status has been updated to accepted\n",
      "2025-08-21 15:41:17,522 INFO status has been updated to running\n",
      "2025-08-21 15:41:25,293 INFO status has been updated to successful\n"
     ]
    },
    {
     "data": {
      "application/vnd.jupyter.widget-view+json": {
       "model_id": "8f886dec46d9492f8d1216190b7377e1",
       "version_major": 2,
       "version_minor": 0
      },
      "text/plain": [
       "e0e9d7ff817f0856999176769eeb171f.zip:   0%|          | 0.00/2.48M [00:00<?, ?B/s]"
      ]
     },
     "metadata": {},
     "output_type": "display_data"
    },
    {
     "name": "stderr",
     "output_type": "stream",
     "text": [
      "2025-08-21 15:41:30,098 INFO Request ID is 73f97b71-ad62-4d74-841e-84d33ddea6a6\n",
      "2025-08-21 15:41:30,331 INFO status has been updated to accepted\n",
      "2025-08-21 15:41:44,539 INFO status has been updated to successful\n"
     ]
    },
    {
     "data": {
      "application/vnd.jupyter.widget-view+json": {
       "model_id": "7e40ea3338d04df5b57fb728b523a42d",
       "version_major": 2,
       "version_minor": 0
      },
      "text/plain": [
       "ef6173043ccfb20c17b9b28f8f8d8e35.zip:   0%|          | 0.00/2.51M [00:00<?, ?B/s]"
      ]
     },
     "metadata": {},
     "output_type": "display_data"
    },
    {
     "name": "stderr",
     "output_type": "stream",
     "text": [
      "2025-08-21 15:41:47,934 INFO Request ID is 5e2efc07-fb13-4081-94f8-77db3075c65a\n",
      "2025-08-21 15:41:48,111 INFO status has been updated to accepted\n",
      "2025-08-21 15:41:57,022 INFO status has been updated to running\n",
      "2025-08-21 15:42:02,288 INFO status has been updated to successful\n"
     ]
    },
    {
     "data": {
      "application/vnd.jupyter.widget-view+json": {
       "model_id": "96ef3c922fd4401d8cbec9cdeb3aaade",
       "version_major": 2,
       "version_minor": 0
      },
      "text/plain": [
       "1fee4753ddd99eac6e5e272c0db9d2f0.zip:   0%|          | 0.00/2.53M [00:00<?, ?B/s]"
      ]
     },
     "metadata": {},
     "output_type": "display_data"
    },
    {
     "name": "stderr",
     "output_type": "stream",
     "text": [
      "2025-08-21 15:42:05,470 INFO Request ID is 85c44722-3a0f-4123-83d5-6fe81f74887a\n",
      "2025-08-21 15:42:05,665 INFO status has been updated to accepted\n",
      "2025-08-21 15:42:14,544 INFO status has been updated to running\n",
      "2025-08-21 15:42:19,786 INFO status has been updated to successful\n"
     ]
    },
    {
     "data": {
      "application/vnd.jupyter.widget-view+json": {
       "model_id": "e9d9bcdaf4e940669467ac8d5e30bdf5",
       "version_major": 2,
       "version_minor": 0
      },
      "text/plain": [
       "84dc5304fd9bf9762907bdae2eb5f9a6.zip:   0%|          | 0.00/2.55M [00:00<?, ?B/s]"
      ]
     },
     "metadata": {},
     "output_type": "display_data"
    },
    {
     "name": "stderr",
     "output_type": "stream",
     "text": [
      "2025-08-21 15:42:24,128 INFO Request ID is 82139a36-dee1-4e30-be8e-d298a83cdf72\n",
      "2025-08-21 15:42:24,505 INFO status has been updated to accepted\n",
      "2025-08-21 15:42:38,655 INFO status has been updated to running\n",
      "2025-08-21 15:42:46,438 INFO status has been updated to successful\n"
     ]
    },
    {
     "data": {
      "application/vnd.jupyter.widget-view+json": {
       "model_id": "0a600cc56bde47bbaf091eb5674ecb17",
       "version_major": 2,
       "version_minor": 0
      },
      "text/plain": [
       "30aa0f87dc6193ca7e8c1b15e241ece7.zip:   0%|          | 0.00/2.55M [00:00<?, ?B/s]"
      ]
     },
     "metadata": {},
     "output_type": "display_data"
    },
    {
     "name": "stderr",
     "output_type": "stream",
     "text": [
      "2025-08-21 15:42:50,360 INFO Request ID is a58844eb-9119-45c9-8341-76745cc8a038\n",
      "2025-08-21 15:42:50,537 INFO status has been updated to accepted\n",
      "2025-08-21 15:43:04,667 INFO status has been updated to running\n",
      "2025-08-21 15:43:12,441 INFO status has been updated to successful\n"
     ]
    },
    {
     "data": {
      "application/vnd.jupyter.widget-view+json": {
       "model_id": "5b9d4d48fb934f3088527aaa44709a9d",
       "version_major": 2,
       "version_minor": 0
      },
      "text/plain": [
       "8f618d8324ef68e2fbb1babbea7a5c77.zip:   0%|          | 0.00/2.53M [00:00<?, ?B/s]"
      ]
     },
     "metadata": {},
     "output_type": "display_data"
    },
    {
     "name": "stderr",
     "output_type": "stream",
     "text": [
      "2025-08-21 15:43:15,438 INFO Request ID is 6838ce56-37a0-4f42-be0f-bbda1223f620\n",
      "2025-08-21 15:43:15,629 INFO status has been updated to accepted\n",
      "2025-08-21 15:43:29,821 INFO status has been updated to running\n",
      "2025-08-21 15:44:06,515 INFO status has been updated to successful\n"
     ]
    },
    {
     "data": {
      "application/vnd.jupyter.widget-view+json": {
       "model_id": "0d1e2e0d965a4d32aa09d6b9c1369729",
       "version_major": 2,
       "version_minor": 0
      },
      "text/plain": [
       "ec7e9f80d88904f963d737ff0c517456.zip:   0%|          | 0.00/2.51M [00:00<?, ?B/s]"
      ]
     },
     "metadata": {},
     "output_type": "display_data"
    },
    {
     "name": "stderr",
     "output_type": "stream",
     "text": [
      "2025-08-21 15:44:09,671 INFO Request ID is 0c20e276-9026-4279-916c-97aec2a1ab0b\n",
      "2025-08-21 15:44:09,852 INFO status has been updated to accepted\n",
      "2025-08-21 15:44:24,235 INFO status has been updated to running\n",
      "2025-08-21 15:44:43,593 INFO status has been updated to successful\n"
     ]
    },
    {
     "data": {
      "application/vnd.jupyter.widget-view+json": {
       "model_id": "2675577822db4b95b808760cd00d608c",
       "version_major": 2,
       "version_minor": 0
      },
      "text/plain": [
       "7077c412999b3a772f9d3d9dabb4feae.zip:   0%|          | 0.00/2.50M [00:00<?, ?B/s]"
      ]
     },
     "metadata": {},
     "output_type": "display_data"
    },
    {
     "name": "stderr",
     "output_type": "stream",
     "text": [
      "2025-08-21 15:44:48,996 INFO Request ID is 2c58b60d-0baa-41f9-9f15-8b55bc604c14\n",
      "2025-08-21 15:44:49,174 INFO status has been updated to accepted\n",
      "2025-08-21 15:44:58,111 INFO status has been updated to running\n",
      "2025-08-21 15:45:03,351 INFO status has been updated to successful\n"
     ]
    },
    {
     "data": {
      "application/vnd.jupyter.widget-view+json": {
       "model_id": "5d0ee925eb234cf0bc596bfaa2b100c6",
       "version_major": 2,
       "version_minor": 0
      },
      "text/plain": [
       "b9d4d72c471de39934810b56ea471cf5.zip:   0%|          | 0.00/2.50M [00:00<?, ?B/s]"
      ]
     },
     "metadata": {},
     "output_type": "display_data"
    },
    {
     "name": "stderr",
     "output_type": "stream",
     "text": [
      "2025-08-21 15:45:07,612 INFO Request ID is 93908675-45a4-4355-a268-72e8ce798ee9\n",
      "2025-08-21 15:45:07,833 INFO status has been updated to accepted\n",
      "2025-08-21 15:45:21,972 INFO status has been updated to running\n",
      "2025-08-21 15:45:41,332 INFO status has been updated to successful\n"
     ]
    },
    {
     "data": {
      "application/vnd.jupyter.widget-view+json": {
       "model_id": "35fe5f7630ca46dcac5def0e353349b7",
       "version_major": 2,
       "version_minor": 0
      },
      "text/plain": [
       "f078f8af853d30020a07ab4f054258f4.zip:   0%|          | 0.00/2.52M [00:00<?, ?B/s]"
      ]
     },
     "metadata": {},
     "output_type": "display_data"
    },
    {
     "name": "stderr",
     "output_type": "stream",
     "text": [
      "2025-08-21 15:45:48,421 INFO Request ID is 8db1bd35-996a-4e28-9e22-9d7f817254e0\n",
      "2025-08-21 15:45:48,597 INFO status has been updated to accepted\n",
      "2025-08-21 15:45:57,508 INFO status has been updated to running\n",
      "2025-08-21 15:46:02,813 INFO status has been updated to successful\n"
     ]
    },
    {
     "data": {
      "application/vnd.jupyter.widget-view+json": {
       "model_id": "539c754fad1b4a7cb2522100916aa98f",
       "version_major": 2,
       "version_minor": 0
      },
      "text/plain": [
       "edb9791f07893b1209c57a640663eac2.zip:   0%|          | 0.00/2.54M [00:00<?, ?B/s]"
      ]
     },
     "metadata": {},
     "output_type": "display_data"
    },
    {
     "name": "stderr",
     "output_type": "stream",
     "text": [
      "2025-08-21 15:46:05,890 INFO Request ID is 2e966186-6743-4d50-b2d7-4d58fbadcaf4\n",
      "2025-08-21 15:46:06,077 INFO status has been updated to accepted\n",
      "2025-08-21 15:46:20,438 INFO status has been updated to running\n",
      "2025-08-21 15:46:28,209 INFO status has been updated to successful\n"
     ]
    },
    {
     "data": {
      "application/vnd.jupyter.widget-view+json": {
       "model_id": "a11388650897414bab6f9ceaf405a455",
       "version_major": 2,
       "version_minor": 0
      },
      "text/plain": [
       "63ba086126d387cb2a8db5b0df588bb.zip:   0%|          | 0.00/2.54M [00:00<?, ?B/s]"
      ]
     },
     "metadata": {},
     "output_type": "display_data"
    },
    {
     "name": "stderr",
     "output_type": "stream",
     "text": [
      "2025-08-21 15:46:31,299 INFO Request ID is 18250cde-54d6-471d-9d0e-d63921489184\n",
      "2025-08-21 15:46:31,497 INFO status has been updated to accepted\n",
      "2025-08-21 15:46:40,358 INFO status has been updated to running\n",
      "2025-08-21 15:46:45,597 INFO status has been updated to successful\n"
     ]
    },
    {
     "data": {
      "application/vnd.jupyter.widget-view+json": {
       "model_id": "24af3ba0b8e94fdc9cb014c02a7a556c",
       "version_major": 2,
       "version_minor": 0
      },
      "text/plain": [
       "c6d43112ea5079ce637df07ad5eeacda.zip:   0%|          | 0.00/2.54M [00:00<?, ?B/s]"
      ]
     },
     "metadata": {},
     "output_type": "display_data"
    },
    {
     "name": "stderr",
     "output_type": "stream",
     "text": [
      "2025-08-21 15:46:48,834 INFO Request ID is c93572f1-596e-42ed-b0c6-0f207600300d\n",
      "2025-08-21 15:46:49,030 INFO status has been updated to accepted\n",
      "2025-08-21 15:47:03,170 INFO status has been updated to successful\n"
     ]
    },
    {
     "data": {
      "application/vnd.jupyter.widget-view+json": {
       "model_id": "032114179eaf48109c0eb5ae0743e1e7",
       "version_major": 2,
       "version_minor": 0
      },
      "text/plain": [
       "f20b69ce6e4807a38a02dae1b39076dc.zip:   0%|          | 0.00/2.56M [00:00<?, ?B/s]"
      ]
     },
     "metadata": {},
     "output_type": "display_data"
    },
    {
     "name": "stderr",
     "output_type": "stream",
     "text": [
      "2025-08-21 15:47:06,417 INFO Request ID is 24ae473b-73ac-4a85-bb16-3b27bef05701\n",
      "2025-08-21 15:47:06,596 INFO status has been updated to accepted\n",
      "2025-08-21 15:47:15,739 INFO status has been updated to running\n",
      "2025-08-21 15:47:20,996 INFO status has been updated to successful\n"
     ]
    },
    {
     "data": {
      "application/vnd.jupyter.widget-view+json": {
       "model_id": "e4fcca50f0f84a19bb2f440f2ff625b6",
       "version_major": 2,
       "version_minor": 0
      },
      "text/plain": [
       "f8d169f589da9e958d0ed4b35b01d9ab.zip:   0%|          | 0.00/2.55M [00:00<?, ?B/s]"
      ]
     },
     "metadata": {},
     "output_type": "display_data"
    },
    {
     "name": "stderr",
     "output_type": "stream",
     "text": [
      "2025-08-21 15:47:24,137 INFO Request ID is dac16645-674d-41b4-9ae4-d1e411858fa9\n",
      "2025-08-21 15:47:24,334 INFO status has been updated to accepted\n",
      "2025-08-21 15:47:38,623 INFO status has been updated to running\n",
      "2025-08-21 15:47:46,399 INFO status has been updated to successful\n"
     ]
    },
    {
     "data": {
      "application/vnd.jupyter.widget-view+json": {
       "model_id": "518a57a97fd44a32bec1c05f314ba200",
       "version_major": 2,
       "version_minor": 0
      },
      "text/plain": [
       "cb52843080f2a175a3057f56beae1f9.zip:   0%|          | 0.00/2.54M [00:00<?, ?B/s]"
      ]
     },
     "metadata": {},
     "output_type": "display_data"
    },
    {
     "name": "stderr",
     "output_type": "stream",
     "text": [
      "2025-08-21 15:47:49,735 INFO Request ID is ed0635b7-5a20-48c7-9f76-14734c10e417\n",
      "2025-08-21 15:47:49,916 INFO status has been updated to accepted\n",
      "2025-08-21 15:48:04,133 INFO status has been updated to running\n",
      "2025-08-21 15:48:11,922 INFO status has been updated to successful\n"
     ]
    },
    {
     "data": {
      "application/vnd.jupyter.widget-view+json": {
       "model_id": "e9551c3b2440434abb711eba9980d49e",
       "version_major": 2,
       "version_minor": 0
      },
      "text/plain": [
       "ccfbf13004165eb71992168252346825.zip:   0%|          | 0.00/2.53M [00:00<?, ?B/s]"
      ]
     },
     "metadata": {},
     "output_type": "display_data"
    },
    {
     "name": "stderr",
     "output_type": "stream",
     "text": [
      "2025-08-21 15:48:14,947 INFO Request ID is 9e6923be-7861-4ce4-ae42-42b5981baf14\n",
      "2025-08-21 15:48:15,123 INFO status has been updated to accepted\n",
      "2025-08-21 15:48:29,228 INFO status has been updated to running\n",
      "2025-08-21 15:48:36,999 INFO status has been updated to successful\n"
     ]
    },
    {
     "data": {
      "application/vnd.jupyter.widget-view+json": {
       "model_id": "761ad1d48977461ebe093d096fadca95",
       "version_major": 2,
       "version_minor": 0
      },
      "text/plain": [
       "3ce931da17d0e4c847c9d18128e0da5a.zip:   0%|          | 0.00/2.52M [00:00<?, ?B/s]"
      ]
     },
     "metadata": {},
     "output_type": "display_data"
    },
    {
     "name": "stderr",
     "output_type": "stream",
     "text": [
      "2025-08-21 15:48:40,016 INFO Request ID is 13234959-d3a1-4922-9453-c39183cd65c9\n",
      "2025-08-21 15:48:40,254 INFO status has been updated to accepted\n",
      "2025-08-21 15:48:54,498 INFO status has been updated to running\n",
      "2025-08-21 15:49:02,296 INFO status has been updated to successful\n"
     ]
    },
    {
     "data": {
      "application/vnd.jupyter.widget-view+json": {
       "model_id": "ebe478177853467c8cbe54c7910ab66d",
       "version_major": 2,
       "version_minor": 0
      },
      "text/plain": [
       "8e64bd8fe221d1d5fdb0dd79ad26f485.zip:   0%|          | 0.00/2.52M [00:00<?, ?B/s]"
      ]
     },
     "metadata": {},
     "output_type": "display_data"
    }
   ],
   "source": [
    "from pathlib import Path\n",
    "\n",
    "# Initialize the CDS API\n",
    "c = cdsapi.Client()\n",
    "\n",
    "def retrieve_era5():\n",
    "    \"\"\"      \n",
    "       A function to demonstrate how to iterate efficiently over several years and months etc    \n",
    "       for a particular ERA5 request.\n",
    "    \"\"\"\n",
    "    yearStart = 2020\n",
    "    yearEnd = 2020\n",
    "    monthStart = 3\n",
    "    monthEnd = 3\n",
    "    dayStart = 1\n",
    "    dayEnd = 31\n",
    "    for year in list(range(yearStart, yearEnd + 1)):\n",
    "        for month in list(range(monthStart, monthEnd + 1)):\n",
    "            for day in list(range(dayStart, dayEnd + 1)):\n",
    "                startDy = '%02d' % (day)\n",
    "                startMo = '%02d' % (month)\n",
    "                startYr = '%04d' % (year)\n",
    "                tmp_dir = Path.cwd() / \"tmp\"\n",
    "                tmp_dir.mkdir(exist_ok=True)\n",
    "                target = f\"{tmp_dir}/era5_SWE_{startYr}{startMo}{startDy}.nc\"\n",
    "                era5_request(startYr, startMo, startDy, target)\n",
    "\n",
    "def era5_request(startYr, startMo, startDy, target):\n",
    "    \"\"\"      \n",
    "        Helper function for era5_retrieve. An ERA-5 request for snow\n",
    "        depth and snow cover data for the given years/months/days.\n",
    "\n",
    "        Inputs\n",
    "        ------------\n",
    "        startYr: str\n",
    "            Starting year of data query, in YYYY format.\n",
    "        startMo: str\n",
    "            Starting month of data query, in MM format.\n",
    "        startDy: str\n",
    "            Starting day of data query, in DD format.\n",
    "        target: str\n",
    "            Path and name of netCDF file to be saved.\n",
    "    \"\"\"\n",
    "    c.retrieve(\n",
    "    'reanalysis-era5-land',\n",
    "    {\n",
    "        'product_type':['reanalysis'],\n",
    "        'data_format':'netcdf',\n",
    "        'variable':['snow_depth', 'snow_cover'],\n",
    "        'year':[startYr],\n",
    "        'month':[startMo],\n",
    "        'day':[startDy],\n",
    "        'time':['12:00']\n",
    "    },\n",
    "    target)\n",
    "        \n",
    "if __name__ == '__main__':\n",
    "    retrieve_era5()"
   ]
  },
  {
   "cell_type": "markdown",
   "id": "8ddc7e52-b22d-40fa-a6c7-8d95de61b62c",
   "metadata": {},
   "source": [
    "Depending on the number of files downloaded (31 in the case of the above example), it can take a while to download everything.\n",
    "\n",
    "When it finishes, there should now be daily ERA5 data in netCDF format! To efficiently load all of this data, we are going to use Xarray and its `open_mfdataset()` function. "
   ]
  },
  {
   "cell_type": "code",
   "execution_count": 2,
   "id": "ead95b35-5789-4a54-852b-e922c8216600",
   "metadata": {},
   "outputs": [],
   "source": [
    "import os\n",
    "import re\n",
    "import zipfile\n",
    "import xarray as xr\n",
    "\n",
    "from os import listdir\n",
    "from os.path import join"
   ]
  },
  {
   "cell_type": "code",
   "execution_count": 3,
   "id": "c3cf59ac-6822-4e81-9504-cad1cf50501c",
   "metadata": {},
   "outputs": [],
   "source": [
    "def process_era5_data(tmp_path):\n",
    "    # Find ERA5 Zip files in downloaded directory\n",
    "    era5_files = [join(tmp_path,f) for f in listdir(tmp_path) if \"era5_\" in join(tmp_path, f)]\n",
    "    \n",
    "    # Iteratively unzip each file and collect into a list\n",
    "    tmp_files = era5_extract(era5_files, tmp_dir)\n",
    "\n",
    "    print('------------')\n",
    "    # Open all ERA5 files into single Xarray\n",
    "    ds = xr.open_mfdataset(tmp_files)\n",
    "    print(\"All data has been lazy-loaded into Xarray.\")\n",
    "\n",
    "    # Remove extracted files, for cleanliness\n",
    "    for file in tmp_files:\n",
    "        os.remove(file)\n",
    "    print(\"Extracted ERA-5 files deleted.\")\n",
    "\n",
    "    return ds\n",
    "\n",
    "def era5_extract(era5_files, tmp_dir):\n",
    "    for file in era5_files:\n",
    "        with zipfile.ZipFile(file, 'r') as zfile:\n",
    "            print(f'Now extracting data for file: {file}')\n",
    "            # Extract all files from current Zip file\n",
    "            zfile.extractall(tmp_dir)\n",
    "\n",
    "            # Rename output file to prevent overwriting\n",
    "            outfile = join(tmp_dir, \"data_0.nc\")\n",
    "            date_pattern = re.search(r'\\d{8}', file).group(0)\n",
    "            newfile = join(tmp_dir, f'data_{date_pattern}.nc')\n",
    "            os.rename(outfile, newfile)\n",
    "            print(f'Data extracted and saved to file: data_{date_pattern}.nc')\n",
    "            print(' ')\n",
    "\n",
    "    # List of output files\n",
    "    tmp_files = [join(tmp_dir,f) for f in os.listdir(tmp_dir) if \"data_\" in join(tmp_dir, f)]\n",
    "\n",
    "    return tmp_files"
   ]
  },
  {
   "cell_type": "code",
   "execution_count": null,
   "id": "dc5e7814-b9bb-4e22-9942-04b96bcff711",
   "metadata": {
    "scrolled": true
   },
   "outputs": [
    {
     "name": "stdout",
     "output_type": "stream",
     "text": [
      "Now extracting data for file: /Users/alexlewandowski/Documents/icesat-2/snow-cookbook/notebooks/tmp/era5_SWE_20200311.nc\n",
      "Data extracted and saved to file: data_20200311.nc\n",
      " \n",
      "Now extracting data for file: /Users/alexlewandowski/Documents/icesat-2/snow-cookbook/notebooks/tmp/era5_SWE_20200325.nc\n",
      "Data extracted and saved to file: data_20200325.nc\n",
      " \n",
      "Now extracting data for file: /Users/alexlewandowski/Documents/icesat-2/snow-cookbook/notebooks/tmp/era5_SWE_20200301.nc\n",
      "Data extracted and saved to file: data_20200301.nc\n",
      " \n",
      "Now extracting data for file: /Users/alexlewandowski/Documents/icesat-2/snow-cookbook/notebooks/tmp/era5_SWE_20200321.nc\n",
      "Data extracted and saved to file: data_20200321.nc\n",
      " \n",
      "Now extracting data for file: /Users/alexlewandowski/Documents/icesat-2/snow-cookbook/notebooks/tmp/era5_SWE_20200315.nc\n",
      "Data extracted and saved to file: data_20200315.nc\n",
      " \n",
      "Now extracting data for file: /Users/alexlewandowski/Documents/icesat-2/snow-cookbook/notebooks/tmp/era5_SWE_20200305.nc\n",
      "Data extracted and saved to file: data_20200305.nc\n",
      " \n",
      "Now extracting data for file: /Users/alexlewandowski/Documents/icesat-2/snow-cookbook/notebooks/tmp/era5_SWE_20200331.nc\n",
      "Data extracted and saved to file: data_20200331.nc\n",
      " \n",
      "Now extracting data for file: /Users/alexlewandowski/Documents/icesat-2/snow-cookbook/notebooks/tmp/era5_SWE_20200320.nc\n",
      "Data extracted and saved to file: data_20200320.nc\n",
      " \n",
      "Now extracting data for file: /Users/alexlewandowski/Documents/icesat-2/snow-cookbook/notebooks/tmp/era5_SWE_20200314.nc\n",
      "Data extracted and saved to file: data_20200314.nc\n",
      " \n",
      "Now extracting data for file: /Users/alexlewandowski/Documents/icesat-2/snow-cookbook/notebooks/tmp/era5_SWE_20200304.nc\n",
      "Data extracted and saved to file: data_20200304.nc\n",
      " \n",
      "Now extracting data for file: /Users/alexlewandowski/Documents/icesat-2/snow-cookbook/notebooks/tmp/era5_SWE_20200330.nc\n",
      "Data extracted and saved to file: data_20200330.nc\n",
      " \n",
      "Now extracting data for file: /Users/alexlewandowski/Documents/icesat-2/snow-cookbook/notebooks/tmp/era5_SWE_20200310.nc\n",
      "Data extracted and saved to file: data_20200310.nc\n",
      " \n",
      "Now extracting data for file: /Users/alexlewandowski/Documents/icesat-2/snow-cookbook/notebooks/tmp/era5_SWE_20200324.nc\n",
      "Data extracted and saved to file: data_20200324.nc\n",
      " \n",
      "Now extracting data for file: /Users/alexlewandowski/Documents/icesat-2/snow-cookbook/notebooks/tmp/era5_SWE_20200329.nc\n",
      "Data extracted and saved to file: data_20200329.nc\n",
      " \n",
      "Now extracting data for file: /Users/alexlewandowski/Documents/icesat-2/snow-cookbook/notebooks/tmp/era5_SWE_20200319.nc\n",
      "Data extracted and saved to file: data_20200319.nc\n",
      " \n",
      "Now extracting data for file: /Users/alexlewandowski/Documents/icesat-2/snow-cookbook/notebooks/tmp/era5_SWE_20200309.nc\n",
      "Data extracted and saved to file: data_20200309.nc\n",
      " \n",
      "Now extracting data for file: /Users/alexlewandowski/Documents/icesat-2/snow-cookbook/notebooks/tmp/era5_SWE_20200318.nc\n",
      "Data extracted and saved to file: data_20200318.nc\n",
      " \n",
      "Now extracting data for file: /Users/alexlewandowski/Documents/icesat-2/snow-cookbook/notebooks/tmp/era5_SWE_20200308.nc\n",
      "Data extracted and saved to file: data_20200308.nc\n",
      " \n",
      "Now extracting data for file: /Users/alexlewandowski/Documents/icesat-2/snow-cookbook/notebooks/tmp/era5_SWE_20200328.nc\n",
      "Data extracted and saved to file: data_20200328.nc\n",
      " \n",
      "Now extracting data for file: /Users/alexlewandowski/Documents/icesat-2/snow-cookbook/notebooks/tmp/era5_SWE_20200323.nc\n",
      "Data extracted and saved to file: data_20200323.nc\n",
      " \n",
      "Now extracting data for file: /Users/alexlewandowski/Documents/icesat-2/snow-cookbook/notebooks/tmp/era5_SWE_20200317.nc\n",
      "Data extracted and saved to file: data_20200317.nc\n",
      " \n",
      "Now extracting data for file: /Users/alexlewandowski/Documents/icesat-2/snow-cookbook/notebooks/tmp/era5_SWE_20200307.nc\n",
      "Data extracted and saved to file: data_20200307.nc\n",
      " \n",
      "Now extracting data for file: /Users/alexlewandowski/Documents/icesat-2/snow-cookbook/notebooks/tmp/era5_SWE_20200313.nc\n",
      "Data extracted and saved to file: data_20200313.nc\n",
      " \n",
      "Now extracting data for file: /Users/alexlewandowski/Documents/icesat-2/snow-cookbook/notebooks/tmp/era5_SWE_20200327.nc\n",
      "Data extracted and saved to file: data_20200327.nc\n",
      " \n",
      "Now extracting data for file: /Users/alexlewandowski/Documents/icesat-2/snow-cookbook/notebooks/tmp/era5_SWE_20200303.nc\n",
      "Data extracted and saved to file: data_20200303.nc\n",
      " \n",
      "Now extracting data for file: /Users/alexlewandowski/Documents/icesat-2/snow-cookbook/notebooks/tmp/era5_SWE_20200312.nc\n",
      "Data extracted and saved to file: data_20200312.nc\n",
      " \n",
      "Now extracting data for file: /Users/alexlewandowski/Documents/icesat-2/snow-cookbook/notebooks/tmp/era5_SWE_20200326.nc\n",
      "Data extracted and saved to file: data_20200326.nc\n",
      " \n",
      "Now extracting data for file: /Users/alexlewandowski/Documents/icesat-2/snow-cookbook/notebooks/tmp/era5_SWE_20200302.nc\n",
      "Data extracted and saved to file: data_20200302.nc\n",
      " \n",
      "Now extracting data for file: /Users/alexlewandowski/Documents/icesat-2/snow-cookbook/notebooks/tmp/era5_SWE_20200322.nc\n",
      "Data extracted and saved to file: data_20200322.nc\n",
      " \n",
      "Now extracting data for file: /Users/alexlewandowski/Documents/icesat-2/snow-cookbook/notebooks/tmp/era5_SWE_20200316.nc\n",
      "Data extracted and saved to file: data_20200316.nc\n",
      " \n",
      "Now extracting data for file: /Users/alexlewandowski/Documents/icesat-2/snow-cookbook/notebooks/tmp/era5_SWE_20200306.nc\n",
      "Data extracted and saved to file: data_20200306.nc\n",
      " \n",
      "------------\n",
      "All data has been lazy-loaded into Xarray.\n",
      "Extracted ERA-5 files deleted.\n"
     ]
    }
   ],
   "source": [
    "tmp_dir = Path.cwd() / \"tmp\"\n",
    "ds = process_era5_data(tmp_dir)"
   ]
  },
  {
   "cell_type": "code",
   "execution_count": 6,
   "id": "ed6dffd7-17e4-4265-9c3f-fd05b4bb97bb",
   "metadata": {},
   "outputs": [
    {
     "data": {
      "text/html": [
       "<div><svg style=\"position: absolute; width: 0; height: 0; overflow: hidden\">\n",
       "<defs>\n",
       "<symbol id=\"icon-database\" viewBox=\"0 0 32 32\">\n",
       "<path d=\"M16 0c-8.837 0-16 2.239-16 5v4c0 2.761 7.163 5 16 5s16-2.239 16-5v-4c0-2.761-7.163-5-16-5z\"></path>\n",
       "<path d=\"M16 17c-8.837 0-16-2.239-16-5v6c0 2.761 7.163 5 16 5s16-2.239 16-5v-6c0 2.761-7.163 5-16 5z\"></path>\n",
       "<path d=\"M16 26c-8.837 0-16-2.239-16-5v6c0 2.761 7.163 5 16 5s16-2.239 16-5v-6c0 2.761-7.163 5-16 5z\"></path>\n",
       "</symbol>\n",
       "<symbol id=\"icon-file-text2\" viewBox=\"0 0 32 32\">\n",
       "<path d=\"M28.681 7.159c-0.694-0.947-1.662-2.053-2.724-3.116s-2.169-2.030-3.116-2.724c-1.612-1.182-2.393-1.319-2.841-1.319h-15.5c-1.378 0-2.5 1.121-2.5 2.5v27c0 1.378 1.122 2.5 2.5 2.5h23c1.378 0 2.5-1.122 2.5-2.5v-19.5c0-0.448-0.137-1.23-1.319-2.841zM24.543 5.457c0.959 0.959 1.712 1.825 2.268 2.543h-4.811v-4.811c0.718 0.556 1.584 1.309 2.543 2.268zM28 29.5c0 0.271-0.229 0.5-0.5 0.5h-23c-0.271 0-0.5-0.229-0.5-0.5v-27c0-0.271 0.229-0.5 0.5-0.5 0 0 15.499-0 15.5 0v7c0 0.552 0.448 1 1 1h7v19.5z\"></path>\n",
       "<path d=\"M23 26h-14c-0.552 0-1-0.448-1-1s0.448-1 1-1h14c0.552 0 1 0.448 1 1s-0.448 1-1 1z\"></path>\n",
       "<path d=\"M23 22h-14c-0.552 0-1-0.448-1-1s0.448-1 1-1h14c0.552 0 1 0.448 1 1s-0.448 1-1 1z\"></path>\n",
       "<path d=\"M23 18h-14c-0.552 0-1-0.448-1-1s0.448-1 1-1h14c0.552 0 1 0.448 1 1s-0.448 1-1 1z\"></path>\n",
       "</symbol>\n",
       "</defs>\n",
       "</svg>\n",
       "<style>/* CSS stylesheet for displaying xarray objects in jupyterlab.\n",
       " *\n",
       " */\n",
       "\n",
       ":root {\n",
       "  --xr-font-color0: var(\n",
       "    --jp-content-font-color0,\n",
       "    var(--pst-color-text-base rgba(0, 0, 0, 1))\n",
       "  );\n",
       "  --xr-font-color2: var(\n",
       "    --jp-content-font-color2,\n",
       "    var(--pst-color-text-base, rgba(0, 0, 0, 0.54))\n",
       "  );\n",
       "  --xr-font-color3: var(\n",
       "    --jp-content-font-color3,\n",
       "    var(--pst-color-text-base, rgba(0, 0, 0, 0.38))\n",
       "  );\n",
       "  --xr-border-color: var(\n",
       "    --jp-border-color2,\n",
       "    hsl(from var(--pst-color-on-background, white) h s calc(l - 10))\n",
       "  );\n",
       "  --xr-disabled-color: var(\n",
       "    --jp-layout-color3,\n",
       "    hsl(from var(--pst-color-on-background, white) h s calc(l - 40))\n",
       "  );\n",
       "  --xr-background-color: var(\n",
       "    --jp-layout-color0,\n",
       "    var(--pst-color-on-background, white)\n",
       "  );\n",
       "  --xr-background-color-row-even: var(\n",
       "    --jp-layout-color1,\n",
       "    hsl(from var(--pst-color-on-background, white) h s calc(l - 5))\n",
       "  );\n",
       "  --xr-background-color-row-odd: var(\n",
       "    --jp-layout-color2,\n",
       "    hsl(from var(--pst-color-on-background, white) h s calc(l - 15))\n",
       "  );\n",
       "}\n",
       "\n",
       "html[theme=\"dark\"],\n",
       "html[data-theme=\"dark\"],\n",
       "body[data-theme=\"dark\"],\n",
       "body.vscode-dark {\n",
       "  --xr-font-color0: var(\n",
       "    --jp-content-font-color0,\n",
       "    var(--pst-color-text-base, rgba(255, 255, 255, 1))\n",
       "  );\n",
       "  --xr-font-color2: var(\n",
       "    --jp-content-font-color2,\n",
       "    var(--pst-color-text-base, rgba(255, 255, 255, 0.54))\n",
       "  );\n",
       "  --xr-font-color3: var(\n",
       "    --jp-content-font-color3,\n",
       "    var(--pst-color-text-base, rgba(255, 255, 255, 0.38))\n",
       "  );\n",
       "  --xr-border-color: var(\n",
       "    --jp-border-color2,\n",
       "    hsl(from var(--pst-color-on-background, #111111) h s calc(l + 10))\n",
       "  );\n",
       "  --xr-disabled-color: var(\n",
       "    --jp-layout-color3,\n",
       "    hsl(from var(--pst-color-on-background, #111111) h s calc(l + 40))\n",
       "  );\n",
       "  --xr-background-color: var(\n",
       "    --jp-layout-color0,\n",
       "    var(--pst-color-on-background, #111111)\n",
       "  );\n",
       "  --xr-background-color-row-even: var(\n",
       "    --jp-layout-color1,\n",
       "    hsl(from var(--pst-color-on-background, #111111) h s calc(l + 5))\n",
       "  );\n",
       "  --xr-background-color-row-odd: var(\n",
       "    --jp-layout-color2,\n",
       "    hsl(from var(--pst-color-on-background, #111111) h s calc(l + 15))\n",
       "  );\n",
       "}\n",
       "\n",
       ".xr-wrap {\n",
       "  display: block !important;\n",
       "  min-width: 300px;\n",
       "  max-width: 700px;\n",
       "}\n",
       "\n",
       ".xr-text-repr-fallback {\n",
       "  /* fallback to plain text repr when CSS is not injected (untrusted notebook) */\n",
       "  display: none;\n",
       "}\n",
       "\n",
       ".xr-header {\n",
       "  padding-top: 6px;\n",
       "  padding-bottom: 6px;\n",
       "  margin-bottom: 4px;\n",
       "  border-bottom: solid 1px var(--xr-border-color);\n",
       "}\n",
       "\n",
       ".xr-header > div,\n",
       ".xr-header > ul {\n",
       "  display: inline;\n",
       "  margin-top: 0;\n",
       "  margin-bottom: 0;\n",
       "}\n",
       "\n",
       ".xr-obj-type,\n",
       ".xr-array-name {\n",
       "  margin-left: 2px;\n",
       "  margin-right: 10px;\n",
       "}\n",
       "\n",
       ".xr-obj-type {\n",
       "  color: var(--xr-font-color2);\n",
       "}\n",
       "\n",
       ".xr-sections {\n",
       "  padding-left: 0 !important;\n",
       "  display: grid;\n",
       "  grid-template-columns: 150px auto auto 1fr 0 20px 0 20px;\n",
       "}\n",
       "\n",
       ".xr-section-item {\n",
       "  display: contents;\n",
       "}\n",
       "\n",
       ".xr-section-item input {\n",
       "  display: inline-block;\n",
       "  opacity: 0;\n",
       "  height: 0;\n",
       "}\n",
       "\n",
       ".xr-section-item input + label {\n",
       "  color: var(--xr-disabled-color);\n",
       "  border: 2px solid transparent !important;\n",
       "}\n",
       "\n",
       ".xr-section-item input:enabled + label {\n",
       "  cursor: pointer;\n",
       "  color: var(--xr-font-color2);\n",
       "}\n",
       "\n",
       ".xr-section-item input:focus + label {\n",
       "  border: 2px solid var(--xr-font-color0) !important;\n",
       "}\n",
       "\n",
       ".xr-section-item input:enabled + label:hover {\n",
       "  color: var(--xr-font-color0);\n",
       "}\n",
       "\n",
       ".xr-section-summary {\n",
       "  grid-column: 1;\n",
       "  color: var(--xr-font-color2);\n",
       "  font-weight: 500;\n",
       "}\n",
       "\n",
       ".xr-section-summary > span {\n",
       "  display: inline-block;\n",
       "  padding-left: 0.5em;\n",
       "}\n",
       "\n",
       ".xr-section-summary-in:disabled + label {\n",
       "  color: var(--xr-font-color2);\n",
       "}\n",
       "\n",
       ".xr-section-summary-in + label:before {\n",
       "  display: inline-block;\n",
       "  content: \"►\";\n",
       "  font-size: 11px;\n",
       "  width: 15px;\n",
       "  text-align: center;\n",
       "}\n",
       "\n",
       ".xr-section-summary-in:disabled + label:before {\n",
       "  color: var(--xr-disabled-color);\n",
       "}\n",
       "\n",
       ".xr-section-summary-in:checked + label:before {\n",
       "  content: \"▼\";\n",
       "}\n",
       "\n",
       ".xr-section-summary-in:checked + label > span {\n",
       "  display: none;\n",
       "}\n",
       "\n",
       ".xr-section-summary,\n",
       ".xr-section-inline-details {\n",
       "  padding-top: 4px;\n",
       "  padding-bottom: 4px;\n",
       "}\n",
       "\n",
       ".xr-section-inline-details {\n",
       "  grid-column: 2 / -1;\n",
       "}\n",
       "\n",
       ".xr-section-details {\n",
       "  display: none;\n",
       "  grid-column: 1 / -1;\n",
       "  margin-bottom: 5px;\n",
       "}\n",
       "\n",
       ".xr-section-summary-in:checked ~ .xr-section-details {\n",
       "  display: contents;\n",
       "}\n",
       "\n",
       ".xr-array-wrap {\n",
       "  grid-column: 1 / -1;\n",
       "  display: grid;\n",
       "  grid-template-columns: 20px auto;\n",
       "}\n",
       "\n",
       ".xr-array-wrap > label {\n",
       "  grid-column: 1;\n",
       "  vertical-align: top;\n",
       "}\n",
       "\n",
       ".xr-preview {\n",
       "  color: var(--xr-font-color3);\n",
       "}\n",
       "\n",
       ".xr-array-preview,\n",
       ".xr-array-data {\n",
       "  padding: 0 5px !important;\n",
       "  grid-column: 2;\n",
       "}\n",
       "\n",
       ".xr-array-data,\n",
       ".xr-array-in:checked ~ .xr-array-preview {\n",
       "  display: none;\n",
       "}\n",
       "\n",
       ".xr-array-in:checked ~ .xr-array-data,\n",
       ".xr-array-preview {\n",
       "  display: inline-block;\n",
       "}\n",
       "\n",
       ".xr-dim-list {\n",
       "  display: inline-block !important;\n",
       "  list-style: none;\n",
       "  padding: 0 !important;\n",
       "  margin: 0;\n",
       "}\n",
       "\n",
       ".xr-dim-list li {\n",
       "  display: inline-block;\n",
       "  padding: 0;\n",
       "  margin: 0;\n",
       "}\n",
       "\n",
       ".xr-dim-list:before {\n",
       "  content: \"(\";\n",
       "}\n",
       "\n",
       ".xr-dim-list:after {\n",
       "  content: \")\";\n",
       "}\n",
       "\n",
       ".xr-dim-list li:not(:last-child):after {\n",
       "  content: \",\";\n",
       "  padding-right: 5px;\n",
       "}\n",
       "\n",
       ".xr-has-index {\n",
       "  font-weight: bold;\n",
       "}\n",
       "\n",
       ".xr-var-list,\n",
       ".xr-var-item {\n",
       "  display: contents;\n",
       "}\n",
       "\n",
       ".xr-var-item > div,\n",
       ".xr-var-item label,\n",
       ".xr-var-item > .xr-var-name span {\n",
       "  background-color: var(--xr-background-color-row-even);\n",
       "  border-color: var(--xr-background-color-row-odd);\n",
       "  margin-bottom: 0;\n",
       "  padding-top: 2px;\n",
       "}\n",
       "\n",
       ".xr-var-item > .xr-var-name:hover span {\n",
       "  padding-right: 5px;\n",
       "}\n",
       "\n",
       ".xr-var-list > li:nth-child(odd) > div,\n",
       ".xr-var-list > li:nth-child(odd) > label,\n",
       ".xr-var-list > li:nth-child(odd) > .xr-var-name span {\n",
       "  background-color: var(--xr-background-color-row-odd);\n",
       "  border-color: var(--xr-background-color-row-even);\n",
       "}\n",
       "\n",
       ".xr-var-name {\n",
       "  grid-column: 1;\n",
       "}\n",
       "\n",
       ".xr-var-dims {\n",
       "  grid-column: 2;\n",
       "}\n",
       "\n",
       ".xr-var-dtype {\n",
       "  grid-column: 3;\n",
       "  text-align: right;\n",
       "  color: var(--xr-font-color2);\n",
       "}\n",
       "\n",
       ".xr-var-preview {\n",
       "  grid-column: 4;\n",
       "}\n",
       "\n",
       ".xr-index-preview {\n",
       "  grid-column: 2 / 5;\n",
       "  color: var(--xr-font-color2);\n",
       "}\n",
       "\n",
       ".xr-var-name,\n",
       ".xr-var-dims,\n",
       ".xr-var-dtype,\n",
       ".xr-preview,\n",
       ".xr-attrs dt {\n",
       "  white-space: nowrap;\n",
       "  overflow: hidden;\n",
       "  text-overflow: ellipsis;\n",
       "  padding-right: 10px;\n",
       "}\n",
       "\n",
       ".xr-var-name:hover,\n",
       ".xr-var-dims:hover,\n",
       ".xr-var-dtype:hover,\n",
       ".xr-attrs dt:hover {\n",
       "  overflow: visible;\n",
       "  width: auto;\n",
       "  z-index: 1;\n",
       "}\n",
       "\n",
       ".xr-var-attrs,\n",
       ".xr-var-data,\n",
       ".xr-index-data {\n",
       "  display: none;\n",
       "  border-top: 2px dotted var(--xr-background-color);\n",
       "  padding-bottom: 20px !important;\n",
       "  padding-top: 10px !important;\n",
       "}\n",
       "\n",
       ".xr-var-attrs-in + label,\n",
       ".xr-var-data-in + label,\n",
       ".xr-index-data-in + label {\n",
       "  padding: 0 1px;\n",
       "}\n",
       "\n",
       ".xr-var-attrs-in:checked ~ .xr-var-attrs,\n",
       ".xr-var-data-in:checked ~ .xr-var-data,\n",
       ".xr-index-data-in:checked ~ .xr-index-data {\n",
       "  display: block;\n",
       "}\n",
       "\n",
       ".xr-var-data > table {\n",
       "  float: right;\n",
       "}\n",
       "\n",
       ".xr-var-data > pre,\n",
       ".xr-index-data > pre,\n",
       ".xr-var-data > table > tbody > tr {\n",
       "  background-color: transparent !important;\n",
       "}\n",
       "\n",
       ".xr-var-name span,\n",
       ".xr-var-data,\n",
       ".xr-index-name div,\n",
       ".xr-index-data,\n",
       ".xr-attrs {\n",
       "  padding-left: 25px !important;\n",
       "}\n",
       "\n",
       ".xr-attrs,\n",
       ".xr-var-attrs,\n",
       ".xr-var-data,\n",
       ".xr-index-data {\n",
       "  grid-column: 1 / -1;\n",
       "}\n",
       "\n",
       "dl.xr-attrs {\n",
       "  padding: 0;\n",
       "  margin: 0;\n",
       "  display: grid;\n",
       "  grid-template-columns: 125px auto;\n",
       "}\n",
       "\n",
       ".xr-attrs dt,\n",
       ".xr-attrs dd {\n",
       "  padding: 0;\n",
       "  margin: 0;\n",
       "  float: left;\n",
       "  padding-right: 10px;\n",
       "  width: auto;\n",
       "}\n",
       "\n",
       ".xr-attrs dt {\n",
       "  font-weight: normal;\n",
       "  grid-column: 1;\n",
       "}\n",
       "\n",
       ".xr-attrs dt:hover span {\n",
       "  display: inline-block;\n",
       "  background: var(--xr-background-color);\n",
       "  padding-right: 10px;\n",
       "}\n",
       "\n",
       ".xr-attrs dd {\n",
       "  grid-column: 2;\n",
       "  white-space: pre-wrap;\n",
       "  word-break: break-all;\n",
       "}\n",
       "\n",
       ".xr-icon-database,\n",
       ".xr-icon-file-text2,\n",
       ".xr-no-icon {\n",
       "  display: inline-block;\n",
       "  vertical-align: middle;\n",
       "  width: 1em;\n",
       "  height: 1.5em !important;\n",
       "  stroke-width: 0;\n",
       "  stroke: currentColor;\n",
       "  fill: currentColor;\n",
       "}\n",
       "\n",
       ".xr-var-attrs-in:checked + label > .xr-icon-file-text2,\n",
       ".xr-var-data-in:checked + label > .xr-icon-database,\n",
       ".xr-index-data-in:checked + label > .xr-icon-database {\n",
       "  color: var(--xr-font-color0);\n",
       "  filter: drop-shadow(1px 1px 5px var(--xr-font-color2));\n",
       "  stroke-width: 0.8px;\n",
       "}\n",
       "</style><pre class='xr-text-repr-fallback'>&lt;xarray.Dataset&gt; Size: 2GB\n",
       "Dimensions:     (valid_time: 31, latitude: 1801, longitude: 3600)\n",
       "Coordinates:\n",
       "  * valid_time  (valid_time) datetime64[ns] 248B 2020-03-01T12:00:00 ... 2020...\n",
       "  * latitude    (latitude) float64 14kB 90.0 89.9 89.8 ... -89.8 -89.9 -90.0\n",
       "  * longitude   (longitude) float64 29kB 0.0 0.1 0.2 0.3 ... 359.7 359.8 359.9\n",
       "    expver      &lt;U4 16B &#x27;0001&#x27;\n",
       "Data variables:\n",
       "    sde         (valid_time, latitude, longitude) float32 804MB dask.array&lt;chunksize=(1, 901, 1800), meta=np.ndarray&gt;\n",
       "    snowc       (valid_time, latitude, longitude) float32 804MB dask.array&lt;chunksize=(1, 901, 1800), meta=np.ndarray&gt;\n",
       "Attributes:\n",
       "    GRIB_centre:             ecmf\n",
       "    GRIB_centreDescription:  European Centre for Medium-Range Weather Forecasts\n",
       "    GRIB_subCentre:          0\n",
       "    Conventions:             CF-1.7\n",
       "    institution:             European Centre for Medium-Range Weather Forecasts\n",
       "    history:                 2025-08-21T22:01 GRIB to CDM+CF via cfgrib-0.9.1...</pre><div class='xr-wrap' style='display:none'><div class='xr-header'><div class='xr-obj-type'>xarray.Dataset</div></div><ul class='xr-sections'><li class='xr-section-item'><input id='section-2c26385c-9785-4f15-9866-a4ab89837479' class='xr-section-summary-in' type='checkbox' disabled ><label for='section-2c26385c-9785-4f15-9866-a4ab89837479' class='xr-section-summary'  title='Expand/collapse section'>Dimensions:</label><div class='xr-section-inline-details'><ul class='xr-dim-list'><li><span class='xr-has-index'>valid_time</span>: 31</li><li><span class='xr-has-index'>latitude</span>: 1801</li><li><span class='xr-has-index'>longitude</span>: 3600</li></ul></div><div class='xr-section-details'></div></li><li class='xr-section-item'><input id='section-467c50d2-943a-4326-996a-c3be96ef62a0' class='xr-section-summary-in' type='checkbox'  checked><label for='section-467c50d2-943a-4326-996a-c3be96ef62a0' class='xr-section-summary' >Coordinates: <span>(4)</span></label><div class='xr-section-inline-details'></div><div class='xr-section-details'><ul class='xr-var-list'><li class='xr-var-item'><div class='xr-var-name'><span class='xr-has-index'>valid_time</span></div><div class='xr-var-dims'>(valid_time)</div><div class='xr-var-dtype'>datetime64[ns]</div><div class='xr-var-preview xr-preview'>2020-03-01T12:00:00 ... 2020-03-...</div><input id='attrs-979161ea-c0bf-4dab-871b-50ad66a35667' class='xr-var-attrs-in' type='checkbox' ><label for='attrs-979161ea-c0bf-4dab-871b-50ad66a35667' title='Show/Hide attributes'><svg class='icon xr-icon-file-text2'><use xlink:href='#icon-file-text2'></use></svg></label><input id='data-019a9e18-a9bc-4576-aca5-fca926634676' class='xr-var-data-in' type='checkbox'><label for='data-019a9e18-a9bc-4576-aca5-fca926634676' title='Show/Hide data repr'><svg class='icon xr-icon-database'><use xlink:href='#icon-database'></use></svg></label><div class='xr-var-attrs'><dl class='xr-attrs'><dt><span>long_name :</span></dt><dd>time</dd><dt><span>standard_name :</span></dt><dd>time</dd></dl></div><div class='xr-var-data'><pre>array([&#x27;2020-03-01T12:00:00.000000000&#x27;, &#x27;2020-03-02T12:00:00.000000000&#x27;,\n",
       "       &#x27;2020-03-03T12:00:00.000000000&#x27;, &#x27;2020-03-04T12:00:00.000000000&#x27;,\n",
       "       &#x27;2020-03-05T12:00:00.000000000&#x27;, &#x27;2020-03-06T12:00:00.000000000&#x27;,\n",
       "       &#x27;2020-03-07T12:00:00.000000000&#x27;, &#x27;2020-03-08T12:00:00.000000000&#x27;,\n",
       "       &#x27;2020-03-09T12:00:00.000000000&#x27;, &#x27;2020-03-10T12:00:00.000000000&#x27;,\n",
       "       &#x27;2020-03-11T12:00:00.000000000&#x27;, &#x27;2020-03-12T12:00:00.000000000&#x27;,\n",
       "       &#x27;2020-03-13T12:00:00.000000000&#x27;, &#x27;2020-03-14T12:00:00.000000000&#x27;,\n",
       "       &#x27;2020-03-15T12:00:00.000000000&#x27;, &#x27;2020-03-16T12:00:00.000000000&#x27;,\n",
       "       &#x27;2020-03-17T12:00:00.000000000&#x27;, &#x27;2020-03-18T12:00:00.000000000&#x27;,\n",
       "       &#x27;2020-03-19T12:00:00.000000000&#x27;, &#x27;2020-03-20T12:00:00.000000000&#x27;,\n",
       "       &#x27;2020-03-21T12:00:00.000000000&#x27;, &#x27;2020-03-22T12:00:00.000000000&#x27;,\n",
       "       &#x27;2020-03-23T12:00:00.000000000&#x27;, &#x27;2020-03-24T12:00:00.000000000&#x27;,\n",
       "       &#x27;2020-03-25T12:00:00.000000000&#x27;, &#x27;2020-03-26T12:00:00.000000000&#x27;,\n",
       "       &#x27;2020-03-27T12:00:00.000000000&#x27;, &#x27;2020-03-28T12:00:00.000000000&#x27;,\n",
       "       &#x27;2020-03-29T12:00:00.000000000&#x27;, &#x27;2020-03-30T12:00:00.000000000&#x27;,\n",
       "       &#x27;2020-03-31T12:00:00.000000000&#x27;], dtype=&#x27;datetime64[ns]&#x27;)</pre></div></li><li class='xr-var-item'><div class='xr-var-name'><span class='xr-has-index'>latitude</span></div><div class='xr-var-dims'>(latitude)</div><div class='xr-var-dtype'>float64</div><div class='xr-var-preview xr-preview'>90.0 89.9 89.8 ... -89.9 -90.0</div><input id='attrs-093faa6d-6927-4a5d-ac2e-5ced913a077e' class='xr-var-attrs-in' type='checkbox' ><label for='attrs-093faa6d-6927-4a5d-ac2e-5ced913a077e' title='Show/Hide attributes'><svg class='icon xr-icon-file-text2'><use xlink:href='#icon-file-text2'></use></svg></label><input id='data-d62bb11d-5aec-4566-b429-768970cbf176' class='xr-var-data-in' type='checkbox'><label for='data-d62bb11d-5aec-4566-b429-768970cbf176' title='Show/Hide data repr'><svg class='icon xr-icon-database'><use xlink:href='#icon-database'></use></svg></label><div class='xr-var-attrs'><dl class='xr-attrs'><dt><span>units :</span></dt><dd>degrees_north</dd><dt><span>standard_name :</span></dt><dd>latitude</dd><dt><span>long_name :</span></dt><dd>latitude</dd><dt><span>stored_direction :</span></dt><dd>decreasing</dd></dl></div><div class='xr-var-data'><pre>array([ 90. ,  89.9,  89.8, ..., -89.8, -89.9, -90. ])</pre></div></li><li class='xr-var-item'><div class='xr-var-name'><span class='xr-has-index'>longitude</span></div><div class='xr-var-dims'>(longitude)</div><div class='xr-var-dtype'>float64</div><div class='xr-var-preview xr-preview'>0.0 0.1 0.2 ... 359.7 359.8 359.9</div><input id='attrs-89ff99c5-d023-46f3-91ad-5b6b0f91f97b' class='xr-var-attrs-in' type='checkbox' ><label for='attrs-89ff99c5-d023-46f3-91ad-5b6b0f91f97b' title='Show/Hide attributes'><svg class='icon xr-icon-file-text2'><use xlink:href='#icon-file-text2'></use></svg></label><input id='data-d43d0ab8-b9d6-48b0-b9dd-6d43ea0b900c' class='xr-var-data-in' type='checkbox'><label for='data-d43d0ab8-b9d6-48b0-b9dd-6d43ea0b900c' title='Show/Hide data repr'><svg class='icon xr-icon-database'><use xlink:href='#icon-database'></use></svg></label><div class='xr-var-attrs'><dl class='xr-attrs'><dt><span>units :</span></dt><dd>degrees_east</dd><dt><span>standard_name :</span></dt><dd>longitude</dd><dt><span>long_name :</span></dt><dd>longitude</dd></dl></div><div class='xr-var-data'><pre>array([0.000e+00, 1.000e-01, 2.000e-01, ..., 3.597e+02, 3.598e+02, 3.599e+02])</pre></div></li><li class='xr-var-item'><div class='xr-var-name'><span>expver</span></div><div class='xr-var-dims'>()</div><div class='xr-var-dtype'>&lt;U4</div><div class='xr-var-preview xr-preview'>&#x27;0001&#x27;</div><input id='attrs-7c9372e7-e252-42e7-9d97-a0d5bf57adb2' class='xr-var-attrs-in' type='checkbox' disabled><label for='attrs-7c9372e7-e252-42e7-9d97-a0d5bf57adb2' title='Show/Hide attributes'><svg class='icon xr-icon-file-text2'><use xlink:href='#icon-file-text2'></use></svg></label><input id='data-b3103a84-95f9-47fd-b520-31891cda52ba' class='xr-var-data-in' type='checkbox'><label for='data-b3103a84-95f9-47fd-b520-31891cda52ba' title='Show/Hide data repr'><svg class='icon xr-icon-database'><use xlink:href='#icon-database'></use></svg></label><div class='xr-var-attrs'><dl class='xr-attrs'></dl></div><div class='xr-var-data'><pre>array(&#x27;0001&#x27;, dtype=&#x27;&lt;U4&#x27;)</pre></div></li></ul></div></li><li class='xr-section-item'><input id='section-73344f06-5e58-45d3-92f5-ee9b581c6d7b' class='xr-section-summary-in' type='checkbox'  checked><label for='section-73344f06-5e58-45d3-92f5-ee9b581c6d7b' class='xr-section-summary' >Data variables: <span>(2)</span></label><div class='xr-section-inline-details'></div><div class='xr-section-details'><ul class='xr-var-list'><li class='xr-var-item'><div class='xr-var-name'><span>sde</span></div><div class='xr-var-dims'>(valid_time, latitude, longitude)</div><div class='xr-var-dtype'>float32</div><div class='xr-var-preview xr-preview'>dask.array&lt;chunksize=(1, 901, 1800), meta=np.ndarray&gt;</div><input id='attrs-17a76bbb-75d2-4563-bc44-f5a7823988b7' class='xr-var-attrs-in' type='checkbox' ><label for='attrs-17a76bbb-75d2-4563-bc44-f5a7823988b7' title='Show/Hide attributes'><svg class='icon xr-icon-file-text2'><use xlink:href='#icon-file-text2'></use></svg></label><input id='data-d23ed8cc-8356-43a5-92fc-abb162c85aed' class='xr-var-data-in' type='checkbox'><label for='data-d23ed8cc-8356-43a5-92fc-abb162c85aed' title='Show/Hide data repr'><svg class='icon xr-icon-database'><use xlink:href='#icon-database'></use></svg></label><div class='xr-var-attrs'><dl class='xr-attrs'><dt><span>GRIB_paramId :</span></dt><dd>3066</dd><dt><span>GRIB_dataType :</span></dt><dd>fc</dd><dt><span>GRIB_numberOfPoints :</span></dt><dd>6483600</dd><dt><span>GRIB_typeOfLevel :</span></dt><dd>surface</dd><dt><span>GRIB_stepUnits :</span></dt><dd>1</dd><dt><span>GRIB_stepType :</span></dt><dd>instant</dd><dt><span>GRIB_gridType :</span></dt><dd>regular_ll</dd><dt><span>GRIB_uvRelativeToGrid :</span></dt><dd>0</dd><dt><span>GRIB_NV :</span></dt><dd>0</dd><dt><span>GRIB_Nx :</span></dt><dd>3600</dd><dt><span>GRIB_Ny :</span></dt><dd>1801</dd><dt><span>GRIB_cfName :</span></dt><dd>lwe_thickness_of_surface_snow_amount</dd><dt><span>GRIB_cfVarName :</span></dt><dd>sde</dd><dt><span>GRIB_gridDefinitionDescription :</span></dt><dd>Latitude/longitude</dd><dt><span>GRIB_iDirectionIncrementInDegrees :</span></dt><dd>0.1</dd><dt><span>GRIB_iScansNegatively :</span></dt><dd>0</dd><dt><span>GRIB_jDirectionIncrementInDegrees :</span></dt><dd>0.1</dd><dt><span>GRIB_jPointsAreConsecutive :</span></dt><dd>0</dd><dt><span>GRIB_jScansPositively :</span></dt><dd>0</dd><dt><span>GRIB_latitudeOfFirstGridPointInDegrees :</span></dt><dd>90.0</dd><dt><span>GRIB_latitudeOfLastGridPointInDegrees :</span></dt><dd>-90.0</dd><dt><span>GRIB_longitudeOfFirstGridPointInDegrees :</span></dt><dd>0.0</dd><dt><span>GRIB_longitudeOfLastGridPointInDegrees :</span></dt><dd>359.9</dd><dt><span>GRIB_missingValue :</span></dt><dd>3.4028234663852886e+38</dd><dt><span>GRIB_name :</span></dt><dd>Snow depth</dd><dt><span>GRIB_shortName :</span></dt><dd>sde</dd><dt><span>GRIB_units :</span></dt><dd>m</dd><dt><span>long_name :</span></dt><dd>Snow depth</dd><dt><span>units :</span></dt><dd>m</dd><dt><span>standard_name :</span></dt><dd>lwe_thickness_of_surface_snow_amount</dd><dt><span>GRIB_surface :</span></dt><dd>0.0</dd></dl></div><div class='xr-var-data'><table>\n",
       "    <tr>\n",
       "        <td>\n",
       "            <table style=\"border-collapse: collapse;\">\n",
       "                <thead>\n",
       "                    <tr>\n",
       "                        <td> </td>\n",
       "                        <th> Array </th>\n",
       "                        <th> Chunk </th>\n",
       "                    </tr>\n",
       "                </thead>\n",
       "                <tbody>\n",
       "                    \n",
       "                    <tr>\n",
       "                        <th> Bytes </th>\n",
       "                        <td> 766.72 MiB </td>\n",
       "                        <td> 6.19 MiB </td>\n",
       "                    </tr>\n",
       "                    \n",
       "                    <tr>\n",
       "                        <th> Shape </th>\n",
       "                        <td> (31, 1801, 3600) </td>\n",
       "                        <td> (1, 901, 1800) </td>\n",
       "                    </tr>\n",
       "                    <tr>\n",
       "                        <th> Dask graph </th>\n",
       "                        <td colspan=\"2\"> 124 chunks in 63 graph layers </td>\n",
       "                    </tr>\n",
       "                    <tr>\n",
       "                        <th> Data type </th>\n",
       "                        <td colspan=\"2\"> float32 numpy.ndarray </td>\n",
       "                    </tr>\n",
       "                </tbody>\n",
       "            </table>\n",
       "        </td>\n",
       "        <td>\n",
       "        <svg width=\"194\" height=\"124\" style=\"stroke:rgb(0,0,0);stroke-width:1\" >\n",
       "\n",
       "  <!-- Horizontal lines -->\n",
       "  <line x1=\"10\" y1=\"0\" x2=\"24\" y2=\"14\" style=\"stroke-width:2\" />\n",
       "  <line x1=\"10\" y1=\"30\" x2=\"24\" y2=\"44\" />\n",
       "  <line x1=\"10\" y1=\"60\" x2=\"24\" y2=\"74\" style=\"stroke-width:2\" />\n",
       "\n",
       "  <!-- Vertical lines -->\n",
       "  <line x1=\"10\" y1=\"0\" x2=\"10\" y2=\"60\" style=\"stroke-width:2\" />\n",
       "  <line x1=\"10\" y1=\"0\" x2=\"10\" y2=\"60\" />\n",
       "  <line x1=\"11\" y1=\"1\" x2=\"11\" y2=\"61\" />\n",
       "  <line x1=\"11\" y1=\"1\" x2=\"11\" y2=\"61\" />\n",
       "  <line x1=\"12\" y1=\"2\" x2=\"12\" y2=\"62\" />\n",
       "  <line x1=\"13\" y1=\"3\" x2=\"13\" y2=\"63\" />\n",
       "  <line x1=\"14\" y1=\"4\" x2=\"14\" y2=\"64\" />\n",
       "  <line x1=\"15\" y1=\"5\" x2=\"15\" y2=\"65\" />\n",
       "  <line x1=\"16\" y1=\"6\" x2=\"16\" y2=\"66\" />\n",
       "  <line x1=\"16\" y1=\"6\" x2=\"16\" y2=\"66\" />\n",
       "  <line x1=\"17\" y1=\"7\" x2=\"17\" y2=\"67\" />\n",
       "  <line x1=\"18\" y1=\"8\" x2=\"18\" y2=\"68\" />\n",
       "  <line x1=\"19\" y1=\"9\" x2=\"19\" y2=\"69\" />\n",
       "  <line x1=\"20\" y1=\"10\" x2=\"20\" y2=\"70\" />\n",
       "  <line x1=\"20\" y1=\"10\" x2=\"20\" y2=\"70\" />\n",
       "  <line x1=\"21\" y1=\"11\" x2=\"21\" y2=\"71\" />\n",
       "  <line x1=\"22\" y1=\"12\" x2=\"22\" y2=\"72\" />\n",
       "  <line x1=\"23\" y1=\"13\" x2=\"23\" y2=\"73\" />\n",
       "  <line x1=\"23\" y1=\"13\" x2=\"23\" y2=\"74\" />\n",
       "  <line x1=\"24\" y1=\"14\" x2=\"24\" y2=\"74\" style=\"stroke-width:2\" />\n",
       "\n",
       "  <!-- Colored Rectangle -->\n",
       "  <polygon points=\"10.0,0.0 24.9485979497544,14.948597949754403 24.9485979497544,74.98193128308773 10.0,60.03333333333333\" style=\"fill:#8B4903A0;stroke-width:0\"/>\n",
       "\n",
       "  <!-- Horizontal lines -->\n",
       "  <line x1=\"10\" y1=\"0\" x2=\"130\" y2=\"0\" style=\"stroke-width:2\" />\n",
       "  <line x1=\"10\" y1=\"0\" x2=\"130\" y2=\"0\" />\n",
       "  <line x1=\"11\" y1=\"1\" x2=\"131\" y2=\"1\" />\n",
       "  <line x1=\"11\" y1=\"1\" x2=\"131\" y2=\"1\" />\n",
       "  <line x1=\"12\" y1=\"2\" x2=\"132\" y2=\"2\" />\n",
       "  <line x1=\"13\" y1=\"3\" x2=\"133\" y2=\"3\" />\n",
       "  <line x1=\"14\" y1=\"4\" x2=\"134\" y2=\"4\" />\n",
       "  <line x1=\"15\" y1=\"5\" x2=\"135\" y2=\"5\" />\n",
       "  <line x1=\"16\" y1=\"6\" x2=\"136\" y2=\"6\" />\n",
       "  <line x1=\"16\" y1=\"6\" x2=\"136\" y2=\"6\" />\n",
       "  <line x1=\"17\" y1=\"7\" x2=\"137\" y2=\"7\" />\n",
       "  <line x1=\"18\" y1=\"8\" x2=\"138\" y2=\"8\" />\n",
       "  <line x1=\"19\" y1=\"9\" x2=\"139\" y2=\"9\" />\n",
       "  <line x1=\"20\" y1=\"10\" x2=\"140\" y2=\"10\" />\n",
       "  <line x1=\"20\" y1=\"10\" x2=\"140\" y2=\"10\" />\n",
       "  <line x1=\"21\" y1=\"11\" x2=\"141\" y2=\"11\" />\n",
       "  <line x1=\"22\" y1=\"12\" x2=\"142\" y2=\"12\" />\n",
       "  <line x1=\"23\" y1=\"13\" x2=\"143\" y2=\"13\" />\n",
       "  <line x1=\"23\" y1=\"13\" x2=\"143\" y2=\"13\" />\n",
       "  <line x1=\"24\" y1=\"14\" x2=\"144\" y2=\"14\" style=\"stroke-width:2\" />\n",
       "\n",
       "  <!-- Vertical lines -->\n",
       "  <line x1=\"10\" y1=\"0\" x2=\"24\" y2=\"14\" style=\"stroke-width:2\" />\n",
       "  <line x1=\"70\" y1=\"0\" x2=\"84\" y2=\"14\" />\n",
       "  <line x1=\"130\" y1=\"0\" x2=\"144\" y2=\"14\" style=\"stroke-width:2\" />\n",
       "\n",
       "  <!-- Colored Rectangle -->\n",
       "  <polygon points=\"10.0,0.0 130.0,0.0 144.9485979497544,14.948597949754403 24.9485979497544,14.948597949754403\" style=\"fill:#8B4903A0;stroke-width:0\"/>\n",
       "\n",
       "  <!-- Horizontal lines -->\n",
       "  <line x1=\"24\" y1=\"14\" x2=\"144\" y2=\"14\" style=\"stroke-width:2\" />\n",
       "  <line x1=\"24\" y1=\"44\" x2=\"144\" y2=\"44\" />\n",
       "  <line x1=\"24\" y1=\"74\" x2=\"144\" y2=\"74\" style=\"stroke-width:2\" />\n",
       "\n",
       "  <!-- Vertical lines -->\n",
       "  <line x1=\"24\" y1=\"14\" x2=\"24\" y2=\"74\" style=\"stroke-width:2\" />\n",
       "  <line x1=\"84\" y1=\"14\" x2=\"84\" y2=\"74\" />\n",
       "  <line x1=\"144\" y1=\"14\" x2=\"144\" y2=\"74\" style=\"stroke-width:2\" />\n",
       "\n",
       "  <!-- Colored Rectangle -->\n",
       "  <polygon points=\"24.9485979497544,14.948597949754403 144.9485979497544,14.948597949754403 144.9485979497544,74.98193128308773 24.9485979497544,74.98193128308773\" style=\"fill:#ECB172A0;stroke-width:0\"/>\n",
       "\n",
       "  <!-- Text -->\n",
       "  <text x=\"84.948598\" y=\"94.981931\" font-size=\"1.0rem\" font-weight=\"100\" text-anchor=\"middle\" >3600</text>\n",
       "  <text x=\"164.948598\" y=\"44.965265\" font-size=\"1.0rem\" font-weight=\"100\" text-anchor=\"middle\" transform=\"rotate(-90,164.948598,44.965265)\">1801</text>\n",
       "  <text x=\"7.474299\" y=\"87.507632\" font-size=\"1.0rem\" font-weight=\"100\" text-anchor=\"middle\" transform=\"rotate(45,7.474299,87.507632)\">31</text>\n",
       "</svg>\n",
       "        </td>\n",
       "    </tr>\n",
       "</table></div></li><li class='xr-var-item'><div class='xr-var-name'><span>snowc</span></div><div class='xr-var-dims'>(valid_time, latitude, longitude)</div><div class='xr-var-dtype'>float32</div><div class='xr-var-preview xr-preview'>dask.array&lt;chunksize=(1, 901, 1800), meta=np.ndarray&gt;</div><input id='attrs-b7854b95-1e84-4fb1-9bd1-1cac6215b840' class='xr-var-attrs-in' type='checkbox' ><label for='attrs-b7854b95-1e84-4fb1-9bd1-1cac6215b840' title='Show/Hide attributes'><svg class='icon xr-icon-file-text2'><use xlink:href='#icon-file-text2'></use></svg></label><input id='data-2b292779-c36c-4b38-b238-03f3bd5eb91b' class='xr-var-data-in' type='checkbox'><label for='data-2b292779-c36c-4b38-b238-03f3bd5eb91b' title='Show/Hide data repr'><svg class='icon xr-icon-database'><use xlink:href='#icon-database'></use></svg></label><div class='xr-var-attrs'><dl class='xr-attrs'><dt><span>GRIB_paramId :</span></dt><dd>260038</dd><dt><span>GRIB_dataType :</span></dt><dd>fc</dd><dt><span>GRIB_numberOfPoints :</span></dt><dd>6483600</dd><dt><span>GRIB_typeOfLevel :</span></dt><dd>surface</dd><dt><span>GRIB_stepUnits :</span></dt><dd>1</dd><dt><span>GRIB_stepType :</span></dt><dd>instant</dd><dt><span>GRIB_gridType :</span></dt><dd>regular_ll</dd><dt><span>GRIB_uvRelativeToGrid :</span></dt><dd>0</dd><dt><span>GRIB_NV :</span></dt><dd>0</dd><dt><span>GRIB_Nx :</span></dt><dd>3600</dd><dt><span>GRIB_Ny :</span></dt><dd>1801</dd><dt><span>GRIB_cfName :</span></dt><dd>unknown</dd><dt><span>GRIB_cfVarName :</span></dt><dd>snowc</dd><dt><span>GRIB_gridDefinitionDescription :</span></dt><dd>Latitude/longitude</dd><dt><span>GRIB_iDirectionIncrementInDegrees :</span></dt><dd>0.1</dd><dt><span>GRIB_iScansNegatively :</span></dt><dd>0</dd><dt><span>GRIB_jDirectionIncrementInDegrees :</span></dt><dd>0.1</dd><dt><span>GRIB_jPointsAreConsecutive :</span></dt><dd>0</dd><dt><span>GRIB_jScansPositively :</span></dt><dd>0</dd><dt><span>GRIB_latitudeOfFirstGridPointInDegrees :</span></dt><dd>90.0</dd><dt><span>GRIB_latitudeOfLastGridPointInDegrees :</span></dt><dd>-90.0</dd><dt><span>GRIB_longitudeOfFirstGridPointInDegrees :</span></dt><dd>0.0</dd><dt><span>GRIB_longitudeOfLastGridPointInDegrees :</span></dt><dd>359.9</dd><dt><span>GRIB_missingValue :</span></dt><dd>3.4028234663852886e+38</dd><dt><span>GRIB_name :</span></dt><dd>Snow cover</dd><dt><span>GRIB_shortName :</span></dt><dd>snowc</dd><dt><span>GRIB_units :</span></dt><dd>%</dd><dt><span>long_name :</span></dt><dd>Snow cover</dd><dt><span>units :</span></dt><dd>%</dd><dt><span>standard_name :</span></dt><dd>unknown</dd><dt><span>GRIB_surface :</span></dt><dd>0.0</dd></dl></div><div class='xr-var-data'><table>\n",
       "    <tr>\n",
       "        <td>\n",
       "            <table style=\"border-collapse: collapse;\">\n",
       "                <thead>\n",
       "                    <tr>\n",
       "                        <td> </td>\n",
       "                        <th> Array </th>\n",
       "                        <th> Chunk </th>\n",
       "                    </tr>\n",
       "                </thead>\n",
       "                <tbody>\n",
       "                    \n",
       "                    <tr>\n",
       "                        <th> Bytes </th>\n",
       "                        <td> 766.72 MiB </td>\n",
       "                        <td> 6.19 MiB </td>\n",
       "                    </tr>\n",
       "                    \n",
       "                    <tr>\n",
       "                        <th> Shape </th>\n",
       "                        <td> (31, 1801, 3600) </td>\n",
       "                        <td> (1, 901, 1800) </td>\n",
       "                    </tr>\n",
       "                    <tr>\n",
       "                        <th> Dask graph </th>\n",
       "                        <td colspan=\"2\"> 124 chunks in 63 graph layers </td>\n",
       "                    </tr>\n",
       "                    <tr>\n",
       "                        <th> Data type </th>\n",
       "                        <td colspan=\"2\"> float32 numpy.ndarray </td>\n",
       "                    </tr>\n",
       "                </tbody>\n",
       "            </table>\n",
       "        </td>\n",
       "        <td>\n",
       "        <svg width=\"194\" height=\"124\" style=\"stroke:rgb(0,0,0);stroke-width:1\" >\n",
       "\n",
       "  <!-- Horizontal lines -->\n",
       "  <line x1=\"10\" y1=\"0\" x2=\"24\" y2=\"14\" style=\"stroke-width:2\" />\n",
       "  <line x1=\"10\" y1=\"30\" x2=\"24\" y2=\"44\" />\n",
       "  <line x1=\"10\" y1=\"60\" x2=\"24\" y2=\"74\" style=\"stroke-width:2\" />\n",
       "\n",
       "  <!-- Vertical lines -->\n",
       "  <line x1=\"10\" y1=\"0\" x2=\"10\" y2=\"60\" style=\"stroke-width:2\" />\n",
       "  <line x1=\"10\" y1=\"0\" x2=\"10\" y2=\"60\" />\n",
       "  <line x1=\"11\" y1=\"1\" x2=\"11\" y2=\"61\" />\n",
       "  <line x1=\"11\" y1=\"1\" x2=\"11\" y2=\"61\" />\n",
       "  <line x1=\"12\" y1=\"2\" x2=\"12\" y2=\"62\" />\n",
       "  <line x1=\"13\" y1=\"3\" x2=\"13\" y2=\"63\" />\n",
       "  <line x1=\"14\" y1=\"4\" x2=\"14\" y2=\"64\" />\n",
       "  <line x1=\"15\" y1=\"5\" x2=\"15\" y2=\"65\" />\n",
       "  <line x1=\"16\" y1=\"6\" x2=\"16\" y2=\"66\" />\n",
       "  <line x1=\"16\" y1=\"6\" x2=\"16\" y2=\"66\" />\n",
       "  <line x1=\"17\" y1=\"7\" x2=\"17\" y2=\"67\" />\n",
       "  <line x1=\"18\" y1=\"8\" x2=\"18\" y2=\"68\" />\n",
       "  <line x1=\"19\" y1=\"9\" x2=\"19\" y2=\"69\" />\n",
       "  <line x1=\"20\" y1=\"10\" x2=\"20\" y2=\"70\" />\n",
       "  <line x1=\"20\" y1=\"10\" x2=\"20\" y2=\"70\" />\n",
       "  <line x1=\"21\" y1=\"11\" x2=\"21\" y2=\"71\" />\n",
       "  <line x1=\"22\" y1=\"12\" x2=\"22\" y2=\"72\" />\n",
       "  <line x1=\"23\" y1=\"13\" x2=\"23\" y2=\"73\" />\n",
       "  <line x1=\"23\" y1=\"13\" x2=\"23\" y2=\"74\" />\n",
       "  <line x1=\"24\" y1=\"14\" x2=\"24\" y2=\"74\" style=\"stroke-width:2\" />\n",
       "\n",
       "  <!-- Colored Rectangle -->\n",
       "  <polygon points=\"10.0,0.0 24.9485979497544,14.948597949754403 24.9485979497544,74.98193128308773 10.0,60.03333333333333\" style=\"fill:#8B4903A0;stroke-width:0\"/>\n",
       "\n",
       "  <!-- Horizontal lines -->\n",
       "  <line x1=\"10\" y1=\"0\" x2=\"130\" y2=\"0\" style=\"stroke-width:2\" />\n",
       "  <line x1=\"10\" y1=\"0\" x2=\"130\" y2=\"0\" />\n",
       "  <line x1=\"11\" y1=\"1\" x2=\"131\" y2=\"1\" />\n",
       "  <line x1=\"11\" y1=\"1\" x2=\"131\" y2=\"1\" />\n",
       "  <line x1=\"12\" y1=\"2\" x2=\"132\" y2=\"2\" />\n",
       "  <line x1=\"13\" y1=\"3\" x2=\"133\" y2=\"3\" />\n",
       "  <line x1=\"14\" y1=\"4\" x2=\"134\" y2=\"4\" />\n",
       "  <line x1=\"15\" y1=\"5\" x2=\"135\" y2=\"5\" />\n",
       "  <line x1=\"16\" y1=\"6\" x2=\"136\" y2=\"6\" />\n",
       "  <line x1=\"16\" y1=\"6\" x2=\"136\" y2=\"6\" />\n",
       "  <line x1=\"17\" y1=\"7\" x2=\"137\" y2=\"7\" />\n",
       "  <line x1=\"18\" y1=\"8\" x2=\"138\" y2=\"8\" />\n",
       "  <line x1=\"19\" y1=\"9\" x2=\"139\" y2=\"9\" />\n",
       "  <line x1=\"20\" y1=\"10\" x2=\"140\" y2=\"10\" />\n",
       "  <line x1=\"20\" y1=\"10\" x2=\"140\" y2=\"10\" />\n",
       "  <line x1=\"21\" y1=\"11\" x2=\"141\" y2=\"11\" />\n",
       "  <line x1=\"22\" y1=\"12\" x2=\"142\" y2=\"12\" />\n",
       "  <line x1=\"23\" y1=\"13\" x2=\"143\" y2=\"13\" />\n",
       "  <line x1=\"23\" y1=\"13\" x2=\"143\" y2=\"13\" />\n",
       "  <line x1=\"24\" y1=\"14\" x2=\"144\" y2=\"14\" style=\"stroke-width:2\" />\n",
       "\n",
       "  <!-- Vertical lines -->\n",
       "  <line x1=\"10\" y1=\"0\" x2=\"24\" y2=\"14\" style=\"stroke-width:2\" />\n",
       "  <line x1=\"70\" y1=\"0\" x2=\"84\" y2=\"14\" />\n",
       "  <line x1=\"130\" y1=\"0\" x2=\"144\" y2=\"14\" style=\"stroke-width:2\" />\n",
       "\n",
       "  <!-- Colored Rectangle -->\n",
       "  <polygon points=\"10.0,0.0 130.0,0.0 144.9485979497544,14.948597949754403 24.9485979497544,14.948597949754403\" style=\"fill:#8B4903A0;stroke-width:0\"/>\n",
       "\n",
       "  <!-- Horizontal lines -->\n",
       "  <line x1=\"24\" y1=\"14\" x2=\"144\" y2=\"14\" style=\"stroke-width:2\" />\n",
       "  <line x1=\"24\" y1=\"44\" x2=\"144\" y2=\"44\" />\n",
       "  <line x1=\"24\" y1=\"74\" x2=\"144\" y2=\"74\" style=\"stroke-width:2\" />\n",
       "\n",
       "  <!-- Vertical lines -->\n",
       "  <line x1=\"24\" y1=\"14\" x2=\"24\" y2=\"74\" style=\"stroke-width:2\" />\n",
       "  <line x1=\"84\" y1=\"14\" x2=\"84\" y2=\"74\" />\n",
       "  <line x1=\"144\" y1=\"14\" x2=\"144\" y2=\"74\" style=\"stroke-width:2\" />\n",
       "\n",
       "  <!-- Colored Rectangle -->\n",
       "  <polygon points=\"24.9485979497544,14.948597949754403 144.9485979497544,14.948597949754403 144.9485979497544,74.98193128308773 24.9485979497544,74.98193128308773\" style=\"fill:#ECB172A0;stroke-width:0\"/>\n",
       "\n",
       "  <!-- Text -->\n",
       "  <text x=\"84.948598\" y=\"94.981931\" font-size=\"1.0rem\" font-weight=\"100\" text-anchor=\"middle\" >3600</text>\n",
       "  <text x=\"164.948598\" y=\"44.965265\" font-size=\"1.0rem\" font-weight=\"100\" text-anchor=\"middle\" transform=\"rotate(-90,164.948598,44.965265)\">1801</text>\n",
       "  <text x=\"7.474299\" y=\"87.507632\" font-size=\"1.0rem\" font-weight=\"100\" text-anchor=\"middle\" transform=\"rotate(45,7.474299,87.507632)\">31</text>\n",
       "</svg>\n",
       "        </td>\n",
       "    </tr>\n",
       "</table></div></li></ul></div></li><li class='xr-section-item'><input id='section-ed19f1f0-3d08-42c7-af80-3c9acdf2e047' class='xr-section-summary-in' type='checkbox'  ><label for='section-ed19f1f0-3d08-42c7-af80-3c9acdf2e047' class='xr-section-summary' >Indexes: <span>(3)</span></label><div class='xr-section-inline-details'></div><div class='xr-section-details'><ul class='xr-var-list'><li class='xr-var-item'><div class='xr-index-name'><div>valid_time</div></div><div class='xr-index-preview'>PandasIndex</div><input type='checkbox' disabled/><label></label><input id='index-dfd2e440-73d4-47f6-8018-bb1d30297b09' class='xr-index-data-in' type='checkbox'/><label for='index-dfd2e440-73d4-47f6-8018-bb1d30297b09' title='Show/Hide index repr'><svg class='icon xr-icon-database'><use xlink:href='#icon-database'></use></svg></label><div class='xr-index-data'><pre>PandasIndex(DatetimeIndex([&#x27;2020-03-01 12:00:00&#x27;, &#x27;2020-03-02 12:00:00&#x27;,\n",
       "               &#x27;2020-03-03 12:00:00&#x27;, &#x27;2020-03-04 12:00:00&#x27;,\n",
       "               &#x27;2020-03-05 12:00:00&#x27;, &#x27;2020-03-06 12:00:00&#x27;,\n",
       "               &#x27;2020-03-07 12:00:00&#x27;, &#x27;2020-03-08 12:00:00&#x27;,\n",
       "               &#x27;2020-03-09 12:00:00&#x27;, &#x27;2020-03-10 12:00:00&#x27;,\n",
       "               &#x27;2020-03-11 12:00:00&#x27;, &#x27;2020-03-12 12:00:00&#x27;,\n",
       "               &#x27;2020-03-13 12:00:00&#x27;, &#x27;2020-03-14 12:00:00&#x27;,\n",
       "               &#x27;2020-03-15 12:00:00&#x27;, &#x27;2020-03-16 12:00:00&#x27;,\n",
       "               &#x27;2020-03-17 12:00:00&#x27;, &#x27;2020-03-18 12:00:00&#x27;,\n",
       "               &#x27;2020-03-19 12:00:00&#x27;, &#x27;2020-03-20 12:00:00&#x27;,\n",
       "               &#x27;2020-03-21 12:00:00&#x27;, &#x27;2020-03-22 12:00:00&#x27;,\n",
       "               &#x27;2020-03-23 12:00:00&#x27;, &#x27;2020-03-24 12:00:00&#x27;,\n",
       "               &#x27;2020-03-25 12:00:00&#x27;, &#x27;2020-03-26 12:00:00&#x27;,\n",
       "               &#x27;2020-03-27 12:00:00&#x27;, &#x27;2020-03-28 12:00:00&#x27;,\n",
       "               &#x27;2020-03-29 12:00:00&#x27;, &#x27;2020-03-30 12:00:00&#x27;,\n",
       "               &#x27;2020-03-31 12:00:00&#x27;],\n",
       "              dtype=&#x27;datetime64[ns]&#x27;, name=&#x27;valid_time&#x27;, freq=None))</pre></div></li><li class='xr-var-item'><div class='xr-index-name'><div>latitude</div></div><div class='xr-index-preview'>PandasIndex</div><input type='checkbox' disabled/><label></label><input id='index-1c27ef27-b81d-43b8-b4bf-b79cca56e1f0' class='xr-index-data-in' type='checkbox'/><label for='index-1c27ef27-b81d-43b8-b4bf-b79cca56e1f0' title='Show/Hide index repr'><svg class='icon xr-icon-database'><use xlink:href='#icon-database'></use></svg></label><div class='xr-index-data'><pre>PandasIndex(Index([              90.0,               89.9,  89.80000000000001,\n",
       "        89.70000000000002,  89.60000000000002,  89.50000000000003,\n",
       "        89.40000000000003,  89.30000000000004,  89.20000000000005,\n",
       "        89.10000000000005,\n",
       "       ...\n",
       "       -89.09999999999837, -89.19999999999837, -89.29999999999836,\n",
       "       -89.39999999999836, -89.49999999999835, -89.59999999999835,\n",
       "       -89.69999999999834, -89.79999999999833, -89.89999999999833,\n",
       "                    -90.0],\n",
       "      dtype=&#x27;float64&#x27;, name=&#x27;latitude&#x27;, length=1801))</pre></div></li><li class='xr-var-item'><div class='xr-index-name'><div>longitude</div></div><div class='xr-index-preview'>PandasIndex</div><input type='checkbox' disabled/><label></label><input id='index-7fd73434-4967-4a97-a223-814a6ac045e4' class='xr-index-data-in' type='checkbox'/><label for='index-7fd73434-4967-4a97-a223-814a6ac045e4' title='Show/Hide index repr'><svg class='icon xr-icon-database'><use xlink:href='#icon-database'></use></svg></label><div class='xr-index-data'><pre>PandasIndex(Index([                0.0, 0.09999999999999999, 0.19999999999999998,\n",
       "                       0.3, 0.39999999999999997, 0.49999999999999994,\n",
       "                       0.6,                 0.7,  0.7999999999999999,\n",
       "        0.8999999999999999,\n",
       "       ...\n",
       "        359.00000000001313,  359.10000000001315,   359.2000000000132,\n",
       "         359.3000000000132,   359.4000000000132,  359.50000000001324,\n",
       "        359.60000000001327,   359.7000000000133,   359.8000000000133,\n",
       "                     359.9],\n",
       "      dtype=&#x27;float64&#x27;, name=&#x27;longitude&#x27;, length=3600))</pre></div></li></ul></div></li><li class='xr-section-item'><input id='section-3912c089-fa92-454c-82f0-06d77639290d' class='xr-section-summary-in' type='checkbox'  checked><label for='section-3912c089-fa92-454c-82f0-06d77639290d' class='xr-section-summary' >Attributes: <span>(6)</span></label><div class='xr-section-inline-details'></div><div class='xr-section-details'><dl class='xr-attrs'><dt><span>GRIB_centre :</span></dt><dd>ecmf</dd><dt><span>GRIB_centreDescription :</span></dt><dd>European Centre for Medium-Range Weather Forecasts</dd><dt><span>GRIB_subCentre :</span></dt><dd>0</dd><dt><span>Conventions :</span></dt><dd>CF-1.7</dd><dt><span>institution :</span></dt><dd>European Centre for Medium-Range Weather Forecasts</dd><dt><span>history :</span></dt><dd>2025-08-21T22:01 GRIB to CDM+CF via cfgrib-0.9.15.0/ecCodes-2.42.0 with {&quot;source&quot;: &quot;data.grib&quot;, &quot;filter_by_keys&quot;: {}, &quot;encode_cf&quot;: [&quot;parameter&quot;, &quot;time&quot;, &quot;geography&quot;, &quot;vertical&quot;]}</dd></dl></div></li></ul></div></div>"
      ],
      "text/plain": [
       "<xarray.Dataset> Size: 2GB\n",
       "Dimensions:     (valid_time: 31, latitude: 1801, longitude: 3600)\n",
       "Coordinates:\n",
       "  * valid_time  (valid_time) datetime64[ns] 248B 2020-03-01T12:00:00 ... 2020...\n",
       "  * latitude    (latitude) float64 14kB 90.0 89.9 89.8 ... -89.8 -89.9 -90.0\n",
       "  * longitude   (longitude) float64 29kB 0.0 0.1 0.2 0.3 ... 359.7 359.8 359.9\n",
       "    expver      <U4 16B '0001'\n",
       "Data variables:\n",
       "    sde         (valid_time, latitude, longitude) float32 804MB dask.array<chunksize=(1, 901, 1800), meta=np.ndarray>\n",
       "    snowc       (valid_time, latitude, longitude) float32 804MB dask.array<chunksize=(1, 901, 1800), meta=np.ndarray>\n",
       "Attributes:\n",
       "    GRIB_centre:             ecmf\n",
       "    GRIB_centreDescription:  European Centre for Medium-Range Weather Forecasts\n",
       "    GRIB_subCentre:          0\n",
       "    Conventions:             CF-1.7\n",
       "    institution:             European Centre for Medium-Range Weather Forecasts\n",
       "    history:                 2025-08-21T22:01 GRIB to CDM+CF via cfgrib-0.9.1..."
      ]
     },
     "execution_count": 6,
     "metadata": {},
     "output_type": "execute_result"
    }
   ],
   "source": [
    "ds"
   ]
  },
  {
   "cell_type": "markdown",
   "id": "cdf97889-cc26-468a-be4a-2c4d6a7344c0",
   "metadata": {},
   "source": [
    "Thanks to the above function, loading all of that data is pretty easy! However, it is important to note that the data is currently \"lazy-loaded\" - we can easily subset and resample the data for our needs, but we will need to load it into memory if we wish to make figures.\n",
    "\n",
    "Fully loading the data as is can be time-consuming, so let's reduce the data first, starting with making monthly means of snow depth."
   ]
  },
  {
   "cell_type": "code",
   "execution_count": 7,
   "id": "37d6d442-03b3-4a50-9002-618ec98fef64",
   "metadata": {},
   "outputs": [],
   "source": [
    "# Calculate monthly mean snow depth and snow cover\n",
    "era5_monthly = ds.resample(valid_time='1ME').mean()"
   ]
  },
  {
   "cell_type": "markdown",
   "id": "ce048ebf-9f9f-4116-8bc0-aad55b596656",
   "metadata": {},
   "source": [
    "Resampling to monthly means reduces the data volume by quite a bit, so let's now look at global snow depth from the month of March. We will go ahead and load the result into memory using the `compute()` function."
   ]
  },
  {
   "cell_type": "code",
   "execution_count": 8,
   "id": "ef2119bd-8f26-4b52-870f-8957a47608f2",
   "metadata": {},
   "outputs": [],
   "source": [
    "# Load March snow depths into memory\n",
    "era5_sd_march = era5_monthly['snowc'].compute().squeeze()"
   ]
  },
  {
   "cell_type": "markdown",
   "id": "fceb09d0-1e5a-4f3b-9762-480c31e3b8d2",
   "metadata": {},
   "source": [
    "Finally, we can make a map figure showing global, monthly-averaged snow depth from ERA5."
   ]
  },
  {
   "cell_type": "code",
   "execution_count": 9,
   "id": "e30b9007-4f0e-476e-841f-9cc7f89d3917",
   "metadata": {},
   "outputs": [
    {
     "data": {
      "image/png": "[encoded data removed]",
      "text/plain": [
       "<Figure size 640x480 with 2 Axes>"
      ]
     },
     "metadata": {},
     "output_type": "display_data"
    }
   ],
   "source": [
    "import matplotlib.pyplot as plt\n",
    "\n",
    "fig, ax = plt.subplots()\n",
    "era5_sd_march.plot.imshow(ax=ax, cmap='Blues')\n",
    "ax.set_xlabel(\"Longitude\", fontsize=12)\n",
    "ax.set_ylabel(\"Latitude\", fontsize=12)\n",
    "ax.set_title(\"ERA5 Snow Cover, March 2020\", fontsize=12)\n",
    "fig.tight_layout()"
   ]
  },
  {
   "cell_type": "markdown",
   "id": "7e956f48-4415-4880-a077-26fd4e5b5603",
   "metadata": {},
   "source": [
    "Now for a different example. Here, we will examine snow depths over Alaska only, and generate a state-wide time series for the month of March."
   ]
  },
  {
   "cell_type": "code",
   "execution_count": 10,
   "id": "ae5e9127-69e9-4db3-b2ed-c0462739efbf",
   "metadata": {},
   "outputs": [],
   "source": [
    "# Making bounds for Alaska\n",
    "mask_lon = (ds.longitude >= -168.75+360) & (ds.longitude <= -136.01+360)\n",
    "mask_lat = (ds.latitude >= 52.64) & (ds.latitude <= 71.59)\n",
    "\n",
    "# Subset ERA5 data to Alaska lats/lons only\n",
    "era5_alaska = ds.where(mask_lon & mask_lat, drop=True)"
   ]
  },
  {
   "cell_type": "markdown",
   "id": "fd8505c7-036b-4102-9c3d-57a4a75d3563",
   "metadata": {},
   "source": [
    "As before, we need to load the Alaska data into memory. Because we are looking over a much smaller spatial domain, `compute()` will be much faster."
   ]
  },
  {
   "cell_type": "code",
   "execution_count": 11,
   "id": "666ad5f2-1aa7-4e92-ad9c-28a734d542ea",
   "metadata": {},
   "outputs": [],
   "source": [
    "# Load Alaska data into memory\n",
    "era5_alaska = era5_alaska.compute().squeeze()"
   ]
  },
  {
   "cell_type": "markdown",
   "id": "a23681f2-c338-4e78-94e0-cdafe51e6bc1",
   "metadata": {},
   "source": [
    "Again, we can make a map figure showing snow depth over the state of Alaska, this time for March 1, 2020:"
   ]
  },
  {
   "cell_type": "code",
   "execution_count": 12,
   "id": "547c0d68-7a6a-4725-b685-c448aaa2e181",
   "metadata": {},
   "outputs": [
    {
     "data": {
      "text/plain": [
       "<matplotlib.image.AxesImage at 0x1bab361b0>"
      ]
     },
     "execution_count": 12,
     "metadata": {},
     "output_type": "execute_result"
    },
    {
     "data": {
      "image/png": "[encoded data removed]",
      "text/plain": [
       "<Figure size 640x480 with 2 Axes>"
      ]
     },
     "metadata": {},
     "output_type": "display_data"
    }
   ],
   "source": [
    "# Map plot of Alaska snow depths\n",
    "era5_alaska['snowc'].isel(valid_time=0).plot.imshow(vmin=0, vmax=1, cmap=\"Blues\")"
   ]
  },
  {
   "cell_type": "markdown",
   "id": "befb764c-9d2c-48ce-b1f2-98c9a77b5eac",
   "metadata": {},
   "source": [
    "We can also create a spatially-averaged time series of snow depth over the state of Alaska for the entire time period March 1 - April 30:"
   ]
  },
  {
   "cell_type": "code",
   "execution_count": 13,
   "id": "d8ddbd96-d587-48ff-99e2-31a69b41059d",
   "metadata": {},
   "outputs": [],
   "source": [
    "# Calculate spatial average of snow depths over Alaska\n",
    "era5_sd_alaska = era5_alaska['snowc'].mean(('longitude', 'latitude'))"
   ]
  },
  {
   "cell_type": "code",
   "execution_count": 14,
   "id": "c71d720d-476e-4bf8-8c9a-fa37937c23d8",
   "metadata": {},
   "outputs": [
    {
     "data": {
      "image/png": "[encoded data removed]",
      "text/plain": [
       "<Figure size 640x480 with 1 Axes>"
      ]
     },
     "metadata": {},
     "output_type": "display_data"
    }
   ],
   "source": [
    "# Time series plot of Alaska snow depths\n",
    "fig, ax = plt.subplots()\n",
    "era5_sd_alaska.plot(ax=ax)\n",
    "ax.set_xlabel(\"Day\", fontsize=12)\n",
    "ax.set_ylabel(\"Snow depth [m]\", fontsize=12)\n",
    "ax.set_title(\"March 1 - April 30, 2020\", fontsize=12)\n",
    "fig.tight_layout()"
   ]
  },
  {
   "cell_type": "code",
   "execution_count": null,
   "id": "e4d50662-f2fc-4b57-b932-a21d19a606e4",
   "metadata": {},
   "outputs": [],
   "source": []
  }
 ],
 "metadata": {
  "kernelspec": {
   "display_name": "default",
   "language": "python",
   "name": "python3"
  },
  "language_info": {
   "codemirror_mode": {
    "name": "ipython",
    "version": 3
   },
   "file_extension": ".py",
   "mimetype": "text/x-python",
   "name": "python",
   "nbconvert_exporter": "python",
   "pygments_lexer": "ipython3",
   "version": "3.12.11"
  }
 },
 "nbformat": 4,
 "nbformat_minor": 5
}
