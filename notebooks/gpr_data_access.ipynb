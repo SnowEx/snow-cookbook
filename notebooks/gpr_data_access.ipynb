{
 "cells": [
  {
   "cell_type": "markdown",
   "id": "39b41357-da1f-4cef-b54a-1a78c166dba1",
   "metadata": {},
   "source": [
    "# GPR Data Access and Processing\n",
    "This notebook is designed to obtain snow depth, density, and SWE from ground-penetrating radar data. We will use GPR data gathered during the SnowEx Alaska campaigns.\n",
    "\n",
    "The text and code in this notebook is adapted from Randall Bonnell's tutorial on lidar and GPR during the 2024 SnowEx Hackweek, found here: https://snowex-2024.hackweek.io/tutorials/gpr_lidar/GPR_Lidar_HackweekTutorial.html"
   ]
  },
  {
   "cell_type": "code",
   "execution_count": 24,
   "id": "ec793960-1f49-4bea-bcd2-f60af6e43ded",
   "metadata": {
    "scrolled": true
   },
   "outputs": [
    {
     "name": "stdout",
     "output_type": "stream",
     "text": [
      "Requirement already satisfied: snowexsql in /srv/conda/envs/notebook/lib/python3.11/site-packages (0.5.0)\n",
      "Requirement already satisfied: utm<1.0,>=0.5.0 in /srv/conda/envs/notebook/lib/python3.11/site-packages (from snowexsql) (0.7.0)\n",
      "Requirement already satisfied: geoalchemy2<1.0,>=0.6 in /srv/conda/envs/notebook/lib/python3.11/site-packages (from snowexsql) (0.17.1)\n",
      "Requirement already satisfied: geopandas<2.0,>=0.7 in /srv/conda/envs/notebook/lib/python3.11/site-packages (from snowexsql) (1.0.1)\n",
      "Requirement already satisfied: psycopg2-binary<2.10.0,>=2.9.0 in /srv/conda/envs/notebook/lib/python3.11/site-packages (from snowexsql) (2.9.9)\n",
      "Requirement already satisfied: rasterio>=1.1.5 in /srv/conda/envs/notebook/lib/python3.11/site-packages (from snowexsql) (1.4.1)\n",
      "Requirement already satisfied: SQLAlchemy>=2.0.0 in /srv/conda/envs/notebook/lib/python3.11/site-packages (from snowexsql) (2.0.40)\n",
      "Requirement already satisfied: packaging in /srv/conda/envs/notebook/lib/python3.11/site-packages (from geoalchemy2<1.0,>=0.6->snowexsql) (24.2)\n",
      "Requirement already satisfied: numpy>=1.22 in /srv/conda/envs/notebook/lib/python3.11/site-packages (from geopandas<2.0,>=0.7->snowexsql) (1.26.4)\n",
      "Requirement already satisfied: pyogrio>=0.7.2 in /srv/conda/envs/notebook/lib/python3.11/site-packages (from geopandas<2.0,>=0.7->snowexsql) (0.10.0)\n",
      "Requirement already satisfied: pandas>=1.4.0 in /srv/conda/envs/notebook/lib/python3.11/site-packages (from geopandas<2.0,>=0.7->snowexsql) (2.2.3)\n",
      "Requirement already satisfied: pyproj>=3.3.0 in /srv/conda/envs/notebook/lib/python3.11/site-packages (from geopandas<2.0,>=0.7->snowexsql) (3.7.1)\n",
      "Requirement already satisfied: shapely>=2.0.0 in /srv/conda/envs/notebook/lib/python3.11/site-packages (from geopandas<2.0,>=0.7->snowexsql) (2.0.6)\n",
      "Requirement already satisfied: psycopg2==2.9.9 in /srv/conda/envs/notebook/lib/python3.11/site-packages (from psycopg2-binary<2.10.0,>=2.9.0->snowexsql) (2.9.9)\n",
      "Requirement already satisfied: affine in /srv/conda/envs/notebook/lib/python3.11/site-packages (from rasterio>=1.1.5->snowexsql) (2.4.0)\n",
      "Requirement already satisfied: attrs in /srv/conda/envs/notebook/lib/python3.11/site-packages (from rasterio>=1.1.5->snowexsql) (25.1.0)\n",
      "Requirement already satisfied: certifi in /srv/conda/envs/notebook/lib/python3.11/site-packages (from rasterio>=1.1.5->snowexsql) (2024.12.14)\n",
      "Requirement already satisfied: click>=4.0 in /srv/conda/envs/notebook/lib/python3.11/site-packages (from rasterio>=1.1.5->snowexsql) (8.1.8)\n",
      "Requirement already satisfied: cligj>=0.5 in /srv/conda/envs/notebook/lib/python3.11/site-packages (from rasterio>=1.1.5->snowexsql) (0.7.2)\n",
      "Requirement already satisfied: click-plugins in /srv/conda/envs/notebook/lib/python3.11/site-packages (from rasterio>=1.1.5->snowexsql) (1.1.1)\n",
      "Requirement already satisfied: pyparsing in /srv/conda/envs/notebook/lib/python3.11/site-packages (from rasterio>=1.1.5->snowexsql) (3.2.3)\n",
      "Requirement already satisfied: greenlet>=1 in /srv/conda/envs/notebook/lib/python3.11/site-packages (from SQLAlchemy>=2.0.0->snowexsql) (3.1.1)\n",
      "Requirement already satisfied: typing-extensions>=4.6.0 in /srv/conda/envs/notebook/lib/python3.11/site-packages (from SQLAlchemy>=2.0.0->snowexsql) (4.12.2)\n",
      "Requirement already satisfied: python-dateutil>=2.8.2 in /srv/conda/envs/notebook/lib/python3.11/site-packages (from pandas>=1.4.0->geopandas<2.0,>=0.7->snowexsql) (2.9.0)\n",
      "Requirement already satisfied: pytz>=2020.1 in /srv/conda/envs/notebook/lib/python3.11/site-packages (from pandas>=1.4.0->geopandas<2.0,>=0.7->snowexsql) (2024.1)\n",
      "Requirement already satisfied: tzdata>=2022.7 in /srv/conda/envs/notebook/lib/python3.11/site-packages (from pandas>=1.4.0->geopandas<2.0,>=0.7->snowexsql) (2025.2)\n",
      "Requirement already satisfied: six>=1.5 in /srv/conda/envs/notebook/lib/python3.11/site-packages (from python-dateutil>=2.8.2->pandas>=1.4.0->geopandas<2.0,>=0.7->snowexsql) (1.17.0)\n",
      "Requirement already satisfied: rasterio in /srv/conda/envs/notebook/lib/python3.11/site-packages (1.4.1)\n",
      "Collecting rasterio\n",
      "  Downloading rasterio-1.4.3-cp311-cp311-manylinux_2_17_x86_64.manylinux2014_x86_64.whl.metadata (9.1 kB)\n",
      "Requirement already satisfied: affine in /srv/conda/envs/notebook/lib/python3.11/site-packages (from rasterio) (2.4.0)\n",
      "Requirement already satisfied: attrs in /srv/conda/envs/notebook/lib/python3.11/site-packages (from rasterio) (25.1.0)\n",
      "Requirement already satisfied: certifi in /srv/conda/envs/notebook/lib/python3.11/site-packages (from rasterio) (2024.12.14)\n",
      "Requirement already satisfied: click>=4.0 in /srv/conda/envs/notebook/lib/python3.11/site-packages (from rasterio) (8.1.8)\n",
      "Requirement already satisfied: cligj>=0.5 in /srv/conda/envs/notebook/lib/python3.11/site-packages (from rasterio) (0.7.2)\n",
      "Requirement already satisfied: numpy>=1.24 in /srv/conda/envs/notebook/lib/python3.11/site-packages (from rasterio) (1.26.4)\n",
      "Requirement already satisfied: click-plugins in /srv/conda/envs/notebook/lib/python3.11/site-packages (from rasterio) (1.1.1)\n",
      "Requirement already satisfied: pyparsing in /srv/conda/envs/notebook/lib/python3.11/site-packages (from rasterio) (3.2.3)\n",
      "Downloading rasterio-1.4.3-cp311-cp311-manylinux_2_17_x86_64.manylinux2014_x86_64.whl (22.2 MB)\n",
      "\u001b[2K   \u001b[90m━━━━━━━━━━━━━━━━━━━━━━━━━━━━━━━━━━━━━━━━\u001b[0m \u001b[32m22.2/22.2 MB\u001b[0m \u001b[31m83.7 MB/s\u001b[0m eta \u001b[36m0:00:00\u001b[0m:00:01\u001b[0m00:01\u001b[0m\n",
      "\u001b[?25hInstalling collected packages: rasterio\n",
      "  Attempting uninstall: rasterio\n",
      "    Found existing installation: rasterio 1.4.1\n",
      "    Uninstalling rasterio-1.4.1:\n",
      "      Successfully uninstalled rasterio-1.4.1\n",
      "Successfully installed rasterio-1.4.3\n"
     ]
    }
   ],
   "source": [
    "!pip install --upgrade snowexsql\n",
    "!pip install --upgrade rasterio"
   ]
  },
  {
   "cell_type": "markdown",
   "id": "3a812002-1d6c-4362-98e2-057cbc05e6b7",
   "metadata": {},
   "source": [
    "# 1. GPR Methods for the Retrieval of Snow Depth and SWE\n",
    "\n",
    "## What is GPR?\n",
    "* GPR transmits a radar signal into the snowpack, which then reflects off objects/interfaces with contrasting dielectric permittivity. The GPR records the **amplitude** and **two-way travel time (twt)** of the reflections.\n",
    "* **Dielectric permittivity** refers to the dielectric properties of the snowpack that define how EM energy trasmits through the medium.\n",
    "* Usually, we are interested in the snow-ground interface, and we measure the snowpack thickness (depth) in two-way travel time (in nanoseconds).\n",
    "* Most analysis-ready GPR products have twt, snow depth, and SWE variables. Some have also been updated to include derived snow density\n",
    "\n",
    "For this notebook, we will start from the two-way travel time data to derive our snow properties of interest, and compare it to airborne lidar data. The `snowexsql` package will be needed.\n",
    "\n",
    "Note that the results derived here are for the user's reference - most of the GPR products posted on NSIDC already have snow depth and SWE available as variables."
   ]
  },
  {
   "cell_type": "markdown",
   "id": "6d35d0c0-0b12-4070-9d8c-f132259caf43",
   "metadata": {},
   "source": [
    "# 2. SnowEx23 GPR/Lidar Derived Permittivities/Densities in the Boreal Forest, Alaska\n",
    "\n",
    "## Deriving Snow Density at Farmer's Loop/Creamer's Field\n",
    "For this first step, we will use:\n",
    "1. Airborne lidar data collected on 11 March, 2023.\n",
    "2. GPR data collected on 7, 11, 13, and 16 March, 2023."
   ]
  },
  {
   "cell_type": "code",
   "execution_count": 1,
   "id": "49988525-1d93-4ba4-a835-87be5baa0665",
   "metadata": {},
   "outputs": [],
   "source": [
    "# Auxiliary packages\n",
    "import os\n",
    "import numpy as np \n",
    "from datetime import date\n",
    "from scipy.spatial import cKDTree\n",
    "\n",
    "# Plotting packages\n",
    "import matplotlib.pyplot as plt\n",
    "from rasterio.plot import show\n",
    "\n",
    "# Geospatial packages\n",
    "import geopandas as gpd #for vector data\n",
    "import xarray as xr\n",
    "import rioxarray #for raster data\n",
    "import pandas as pd\n",
    "from shapely.geometry import box, Point\n",
    "import rasterio as rio\n",
    "\n",
    "# Import SnowEx database\n",
    "from snowexsql.api import PointMeasurements, LayerMeasurements, RasterMeasurements"
   ]
  },
  {
   "cell_type": "code",
   "execution_count": 2,
   "id": "c972c265-1af8-4134-9c7c-3c060fb60898",
   "metadata": {},
   "outputs": [
    {
     "name": "stdout",
     "output_type": "stream",
     "text": [
      "2.2.3\n",
      "2.0.40\n",
      "1.4.3\n"
     ]
    }
   ],
   "source": [
    "import sqlalchemy\n",
    "import rasterio\n",
    "\n",
    "print(pd.__version__)\n",
    "print(sqlalchemy.__version__)\n",
    "print(rasterio.__version__)"
   ]
  },
  {
   "cell_type": "markdown",
   "id": "510cf6be-e680-4acb-9853-160ad99405ea",
   "metadata": {},
   "source": [
    "### Load GPR Data from the SnowEx Database\n",
    "Thanks goes to Micah Johnson and Micah Sandusky from M3Works for their development of the SnowEx Database.\n",
    "\n",
    "We will focus on a single date for the GPR data to limit the memory usage needed for data accessing and processing. The GPR data is in CSV format, so we will use `pandas` to load the data directly."
   ]
  },
  {
   "cell_type": "code",
   "execution_count": 3,
   "id": "406120b3-15b3-49dc-a3f9-574d5c6dc60e",
   "metadata": {},
   "outputs": [
    {
     "data": {
      "text/html": [
       "<div>\n",
       "<style scoped>\n",
       "    .dataframe tbody tr th:only-of-type {\n",
       "        vertical-align: middle;\n",
       "    }\n",
       "\n",
       "    .dataframe tbody tr th {\n",
       "        vertical-align: top;\n",
       "    }\n",
       "\n",
       "    .dataframe thead th {\n",
       "        text-align: right;\n",
       "    }\n",
       "</style>\n",
       "<table border=\"1\" class=\"dataframe\">\n",
       "  <thead>\n",
       "    <tr style=\"text-align: right;\">\n",
       "      <th></th>\n",
       "      <th>version_number</th>\n",
       "      <th>equipment</th>\n",
       "      <th>value</th>\n",
       "      <th>latitude</th>\n",
       "      <th>longitude</th>\n",
       "      <th>northing</th>\n",
       "      <th>easting</th>\n",
       "      <th>elevation</th>\n",
       "      <th>utm_zone</th>\n",
       "      <th>geom</th>\n",
       "      <th>...</th>\n",
       "      <th>date</th>\n",
       "      <th>time_created</th>\n",
       "      <th>time_updated</th>\n",
       "      <th>id</th>\n",
       "      <th>doi</th>\n",
       "      <th>date_accessed</th>\n",
       "      <th>instrument</th>\n",
       "      <th>type</th>\n",
       "      <th>units</th>\n",
       "      <th>observers</th>\n",
       "    </tr>\n",
       "  </thead>\n",
       "  <tbody>\n",
       "    <tr>\n",
       "      <th>0</th>\n",
       "      <td>None</td>\n",
       "      <td>None</td>\n",
       "      <td>4.499446</td>\n",
       "      <td>64.873628</td>\n",
       "      <td>-147.694592</td>\n",
       "      <td>7.194551e+06</td>\n",
       "      <td>467091.226887</td>\n",
       "      <td>None</td>\n",
       "      <td>6</td>\n",
       "      <td>POINT (467091.227 7194551.371)</td>\n",
       "      <td>...</td>\n",
       "      <td>2023-03-11</td>\n",
       "      <td>2024-08-18 02:41:55.743293+00:00</td>\n",
       "      <td>None</td>\n",
       "      <td>7419147</td>\n",
       "      <td>None</td>\n",
       "      <td>2024-08-18</td>\n",
       "      <td>pulseEkko pro 1 GHz GPR</td>\n",
       "      <td>two_way_travel</td>\n",
       "      <td>ns</td>\n",
       "      <td>Randall Bonnell</td>\n",
       "    </tr>\n",
       "    <tr>\n",
       "      <th>1</th>\n",
       "      <td>None</td>\n",
       "      <td>None</td>\n",
       "      <td>2.993355</td>\n",
       "      <td>64.873572</td>\n",
       "      <td>-147.695581</td>\n",
       "      <td>7.194546e+06</td>\n",
       "      <td>467044.267331</td>\n",
       "      <td>None</td>\n",
       "      <td>6</td>\n",
       "      <td>POINT (467044.267 7194545.619)</td>\n",
       "      <td>...</td>\n",
       "      <td>2023-03-11</td>\n",
       "      <td>2024-08-18 02:41:55.743293+00:00</td>\n",
       "      <td>None</td>\n",
       "      <td>7418573</td>\n",
       "      <td>None</td>\n",
       "      <td>2024-08-18</td>\n",
       "      <td>pulseEkko pro 1 GHz GPR</td>\n",
       "      <td>two_way_travel</td>\n",
       "      <td>ns</td>\n",
       "      <td>Randall Bonnell</td>\n",
       "    </tr>\n",
       "    <tr>\n",
       "      <th>2</th>\n",
       "      <td>None</td>\n",
       "      <td>None</td>\n",
       "      <td>2.842746</td>\n",
       "      <td>64.873572</td>\n",
       "      <td>-147.695580</td>\n",
       "      <td>7.194546e+06</td>\n",
       "      <td>467044.351761</td>\n",
       "      <td>None</td>\n",
       "      <td>6</td>\n",
       "      <td>POINT (467044.352 7194545.672)</td>\n",
       "      <td>...</td>\n",
       "      <td>2023-03-11</td>\n",
       "      <td>2024-08-18 02:41:55.743293+00:00</td>\n",
       "      <td>None</td>\n",
       "      <td>7418574</td>\n",
       "      <td>None</td>\n",
       "      <td>2024-08-18</td>\n",
       "      <td>pulseEkko pro 1 GHz GPR</td>\n",
       "      <td>two_way_travel</td>\n",
       "      <td>ns</td>\n",
       "      <td>Randall Bonnell</td>\n",
       "    </tr>\n",
       "    <tr>\n",
       "      <th>3</th>\n",
       "      <td>None</td>\n",
       "      <td>None</td>\n",
       "      <td>2.842746</td>\n",
       "      <td>64.873573</td>\n",
       "      <td>-147.695578</td>\n",
       "      <td>7.194546e+06</td>\n",
       "      <td>467044.436181</td>\n",
       "      <td>None</td>\n",
       "      <td>6</td>\n",
       "      <td>POINT (467044.436 7194545.726)</td>\n",
       "      <td>...</td>\n",
       "      <td>2023-03-11</td>\n",
       "      <td>2024-08-18 02:41:55.743293+00:00</td>\n",
       "      <td>None</td>\n",
       "      <td>7418575</td>\n",
       "      <td>None</td>\n",
       "      <td>2024-08-18</td>\n",
       "      <td>pulseEkko pro 1 GHz GPR</td>\n",
       "      <td>two_way_travel</td>\n",
       "      <td>ns</td>\n",
       "      <td>Randall Bonnell</td>\n",
       "    </tr>\n",
       "    <tr>\n",
       "      <th>4</th>\n",
       "      <td>None</td>\n",
       "      <td>None</td>\n",
       "      <td>2.918051</td>\n",
       "      <td>64.873573</td>\n",
       "      <td>-147.695576</td>\n",
       "      <td>7.194546e+06</td>\n",
       "      <td>467044.520600</td>\n",
       "      <td>None</td>\n",
       "      <td>6</td>\n",
       "      <td>POINT (467044.521 7194545.779)</td>\n",
       "      <td>...</td>\n",
       "      <td>2023-03-11</td>\n",
       "      <td>2024-08-18 02:41:55.743293+00:00</td>\n",
       "      <td>None</td>\n",
       "      <td>7418576</td>\n",
       "      <td>None</td>\n",
       "      <td>2024-08-18</td>\n",
       "      <td>pulseEkko pro 1 GHz GPR</td>\n",
       "      <td>two_way_travel</td>\n",
       "      <td>ns</td>\n",
       "      <td>Randall Bonnell</td>\n",
       "    </tr>\n",
       "  </tbody>\n",
       "</table>\n",
       "<p>5 rows × 23 columns</p>\n",
       "</div>"
      ],
      "text/plain": [
       "  version_number equipment     value   latitude   longitude      northing  \\\n",
       "0           None      None  4.499446  64.873628 -147.694592  7.194551e+06   \n",
       "1           None      None  2.993355  64.873572 -147.695581  7.194546e+06   \n",
       "2           None      None  2.842746  64.873572 -147.695580  7.194546e+06   \n",
       "3           None      None  2.842746  64.873573 -147.695578  7.194546e+06   \n",
       "4           None      None  2.918051  64.873573 -147.695576  7.194546e+06   \n",
       "\n",
       "         easting elevation  utm_zone                            geom  ...  \\\n",
       "0  467091.226887      None         6  POINT (467091.227 7194551.371)  ...   \n",
       "1  467044.267331      None         6  POINT (467044.267 7194545.619)  ...   \n",
       "2  467044.351761      None         6  POINT (467044.352 7194545.672)  ...   \n",
       "3  467044.436181      None         6  POINT (467044.436 7194545.726)  ...   \n",
       "4  467044.520600      None         6  POINT (467044.521 7194545.779)  ...   \n",
       "\n",
       "         date                     time_created time_updated       id   doi  \\\n",
       "0  2023-03-11 2024-08-18 02:41:55.743293+00:00         None  7419147  None   \n",
       "1  2023-03-11 2024-08-18 02:41:55.743293+00:00         None  7418573  None   \n",
       "2  2023-03-11 2024-08-18 02:41:55.743293+00:00         None  7418574  None   \n",
       "3  2023-03-11 2024-08-18 02:41:55.743293+00:00         None  7418575  None   \n",
       "4  2023-03-11 2024-08-18 02:41:55.743293+00:00         None  7418576  None   \n",
       "\n",
       "  date_accessed               instrument            type units  \\\n",
       "0    2024-08-18  pulseEkko pro 1 GHz GPR  two_way_travel    ns   \n",
       "1    2024-08-18  pulseEkko pro 1 GHz GPR  two_way_travel    ns   \n",
       "2    2024-08-18  pulseEkko pro 1 GHz GPR  two_way_travel    ns   \n",
       "3    2024-08-18  pulseEkko pro 1 GHz GPR  two_way_travel    ns   \n",
       "4    2024-08-18  pulseEkko pro 1 GHz GPR  two_way_travel    ns   \n",
       "\n",
       "         observers  \n",
       "0  Randall Bonnell  \n",
       "1  Randall Bonnell  \n",
       "2  Randall Bonnell  \n",
       "3  Randall Bonnell  \n",
       "4  Randall Bonnell  \n",
       "\n",
       "[5 rows x 23 columns]"
      ]
     },
     "execution_count": 3,
     "metadata": {},
     "output_type": "execute_result"
    }
   ],
   "source": [
    "# Set a date of interest\n",
    "dt = date(2023, 3, 11)\n",
    "\n",
    "# Define site of interest\n",
    "site = LayerMeasurements.from_filter(date=dt,\n",
    "                                     site_name='Fairbanks',\n",
    "                                     site_id='FLCF',\n",
    "                                     limit=1\n",
    "                                    )\n",
    "\n",
    "# Use pandas to read in GPR data\n",
    "gpr_df = PointMeasurements.from_area(pt=site.geometry[0],\n",
    "                                     crs=26906,\n",
    "                                     buffer=10000,\n",
    "                                     type='two_way_travel',\n",
    "                                     observers='Randall Bonnell',\n",
    "                                     date=dt,\n",
    "                                     site_name='farmers-creamers',\n",
    "                                     limit=20213 # Expected number of measurements\n",
    "                                    )\n",
    "\n",
    "gpr_df.head()"
   ]
  },
  {
   "cell_type": "markdown",
   "id": "cc223bf7-da1d-4ba8-b5e8-fde5c593245d",
   "metadata": {},
   "source": [
    "Let's take a look at the distribution of GPR two-way travel time. We will also estimate snow depth from twt and plot that."
   ]
  },
  {
   "cell_type": "code",
   "execution_count": null,
   "id": "f839cef4-a067-4ca9-bcdf-5694dd8f2a09",
   "metadata": {},
   "outputs": [],
   "source": [
    "# Estimate snow depth from the two-way travel time\n",
    "gpr_df['Depth_estimated'] = 0.25 * (gpr_df['value']/2)\n",
    "\n",
    "# Make histograms of two-way travel time and snow depth\n",
    "fig, (ax1,ax2) = plt.subplots(2,1, figsize=(6, 9))\n",
    "gpr_df.plot.hist(ax=ax1, column='value', bins=20, edgecolor='black', legend=False)\n",
    "ax1.set_xlabel(' ')\n",
    "ax1.set_title('Two-way travel time [ns]')\n",
    "\n",
    "gpr_df.plot.hist(ax=ax2, column='Depth_estimated', bins=20, edgecolor='black', legend=False)\n",
    "ax2.set_xlabel(' ')\n",
    "ax2.set_title('Snow depth [m]')\n",
    "\n",
    "plt.tight_layout()"
   ]
  },
  {
   "cell_type": "markdown",
   "id": "901d1ae1-9e4e-4d72-8048-6682bace8d9b",
   "metadata": {},
   "source": [
    "### Load Lidar-Derived Canopy Height and Snow Depth\n",
    "To compare against the GPR data, we will load airborne lidar data products, specifically canopy height and snow depths. To facilitate our analysis, we will create a bounding box for the lidar results using our GPR data."
   ]
  },
  {
   "cell_type": "code",
   "execution_count": 4,
   "id": "e60994d5-18ed-415c-a179-b50ceed82e5a",
   "metadata": {},
   "outputs": [],
   "source": [
    "# Extract x/y limit from GPR data\n",
    "bounds = gpr_df.total_bounds\n",
    "\n",
    "# Create a bounding box\n",
    "gpr_limits = box(*bounds)"
   ]
  },
  {
   "cell_type": "markdown",
   "id": "85a3de50-b271-42c1-b490-6b5893a4e82b",
   "metadata": {},
   "source": [
    "Aside from this bounding box, accessing the lidar data is very similar to the GPR data. However, because the lidar data is much larger, loading it through the database may take a few minutes."
   ]
  },
  {
   "cell_type": "code",
   "execution_count": 5,
   "id": "7649faef-7610-49fd-9876-515c06187caa",
   "metadata": {},
   "outputs": [
    {
     "name": "stdout",
     "output_type": "stream",
     "text": [
      "<closed DatasetReader name='/vsimem/f58014d1-eb06-4e38-99f2-4eef997f896c/f58014d1-eb06-4e38-99f2-4eef997f896c.tif' mode='r'>\n"
     ]
    }
   ],
   "source": [
    "# Load lidar canopy heights\n",
    "flcf_ch = RasterMeasurements.from_area(shp=gpr_limits,\n",
    "                                      crs=26906,\n",
    "                                      buffer=None,\n",
    "                                      type='canopy_height',\n",
    "                                      site_name='farmers-creamers',\n",
    "                                      observers='chris larsen'\n",
    "                                      )\n",
    "print(flcf_ch)"
   ]
  },
  {
   "cell_type": "code",
   "execution_count": 6,
   "id": "ab327e68-909b-447a-ba42-000ffcf5e105",
   "metadata": {},
   "outputs": [
    {
     "ename": "RasterioIOError",
     "evalue": "Dataset is closed: /vsimem/f58014d1-eb06-4e38-99f2-4eef997f896c/f58014d1-eb06-4e38-99f2-4eef997f896c.tif",
     "output_type": "error",
     "traceback": [
      "\u001b[0;31m---------------------------------------------------------------------------\u001b[0m",
      "\u001b[0;31mRasterioIOError\u001b[0m                           Traceback (most recent call last)",
      "Cell \u001b[0;32mIn[6], line 3\u001b[0m\n\u001b[1;32m      1\u001b[0m \u001b[38;5;66;03m# Make a sample plot of canopy height and the GPR track\u001b[39;00m\n\u001b[1;32m      2\u001b[0m fig, ax \u001b[38;5;241m=\u001b[39m plt\u001b[38;5;241m.\u001b[39msubplots()\n\u001b[0;32m----> 3\u001b[0m \u001b[43mshow\u001b[49m\u001b[43m(\u001b[49m\u001b[43mflcf_ch\u001b[49m\u001b[43m,\u001b[49m\u001b[43m \u001b[49m\u001b[43max\u001b[49m\u001b[38;5;241;43m=\u001b[39;49m\u001b[43max\u001b[49m\u001b[43m,\u001b[49m\u001b[43m \u001b[49m\u001b[43mcmap\u001b[49m\u001b[38;5;241;43m=\u001b[39;49m\u001b[38;5;124;43m'\u001b[39;49m\u001b[38;5;124;43mGreens\u001b[39;49m\u001b[38;5;124;43m'\u001b[39;49m\u001b[43m,\u001b[49m\u001b[43m \u001b[49m\u001b[43mclim\u001b[49m\u001b[38;5;241;43m=\u001b[39;49m\u001b[43m(\u001b[49m\u001b[38;5;241;43m0\u001b[39;49m\u001b[43m,\u001b[49m\u001b[38;5;241;43m5\u001b[39;49m\u001b[43m)\u001b[49m\u001b[43m)\u001b[49m\n\u001b[1;32m      4\u001b[0m gpr_df\u001b[38;5;241m.\u001b[39mplot(ax\u001b[38;5;241m=\u001b[39max, color\u001b[38;5;241m=\u001b[39m\u001b[38;5;124m'\u001b[39m\u001b[38;5;124mblue\u001b[39m\u001b[38;5;124m'\u001b[39m, markersize\u001b[38;5;241m=\u001b[39m\u001b[38;5;241m10\u001b[39m)\n\u001b[1;32m      5\u001b[0m plt\u001b[38;5;241m.\u001b[39mtight_layout()\n",
      "File \u001b[0;32m/srv/conda/envs/notebook/lib/python3.11/site-packages/rasterio/plot.py:90\u001b[0m, in \u001b[0;36mshow\u001b[0;34m(source, with_bounds, contour, contour_label_kws, ax, title, transform, adjust, **kwargs)\u001b[0m\n\u001b[1;32m     87\u001b[0m     kwargs[\u001b[38;5;124m'\u001b[39m\u001b[38;5;124mextent\u001b[39m\u001b[38;5;124m'\u001b[39m] \u001b[38;5;241m=\u001b[39m plotting_extent(source)\n\u001b[1;32m     89\u001b[0m \u001b[38;5;28;01mif\u001b[39;00m source\u001b[38;5;241m.\u001b[39mcount \u001b[38;5;241m==\u001b[39m \u001b[38;5;241m1\u001b[39m:\n\u001b[0;32m---> 90\u001b[0m     arr \u001b[38;5;241m=\u001b[39m \u001b[43msource\u001b[49m\u001b[38;5;241;43m.\u001b[39;49m\u001b[43mread\u001b[49m\u001b[43m(\u001b[49m\u001b[38;5;241;43m1\u001b[39;49m\u001b[43m,\u001b[49m\u001b[43m \u001b[49m\u001b[43mmasked\u001b[49m\u001b[38;5;241;43m=\u001b[39;49m\u001b[38;5;28;43;01mTrue\u001b[39;49;00m\u001b[43m)\u001b[49m\n\u001b[1;32m     91\u001b[0m \u001b[38;5;28;01melse\u001b[39;00m:\n\u001b[1;32m     92\u001b[0m     \u001b[38;5;28;01mtry\u001b[39;00m:\n\u001b[1;32m     93\u001b[0m         \u001b[38;5;66;03m# Lookup table for the color space in the source file.\u001b[39;00m\n\u001b[1;32m     94\u001b[0m         \u001b[38;5;66;03m# This will allow us to re-order it to RGB if needed\u001b[39;00m\n",
      "File \u001b[0;32mrasterio/_io.pyx:632\u001b[0m, in \u001b[0;36mrasterio._io.DatasetReaderBase.read\u001b[0;34m()\u001b[0m\n",
      "File \u001b[0;32mrasterio/_base.pyx:650\u001b[0m, in \u001b[0;36mrasterio._base.DatasetBase.mask_flag_enums.__get__\u001b[0;34m()\u001b[0m\n",
      "File \u001b[0;32mrasterio/_base.pyx:612\u001b[0m, in \u001b[0;36mgenexpr\u001b[0;34m()\u001b[0m\n",
      "File \u001b[0;32mrasterio/_base.pyx:612\u001b[0m, in \u001b[0;36mgenexpr\u001b[0;34m()\u001b[0m\n",
      "File \u001b[0;32mrasterio/_base.pyx:367\u001b[0m, in \u001b[0;36mrasterio._base.DatasetBase.band\u001b[0;34m()\u001b[0m\n",
      "File \u001b[0;32mrasterio/_base.pyx:360\u001b[0m, in \u001b[0;36mrasterio._base.DatasetBase.handle\u001b[0;34m()\u001b[0m\n",
      "\u001b[0;31mRasterioIOError\u001b[0m: Dataset is closed: /vsimem/f58014d1-eb06-4e38-99f2-4eef997f896c/f58014d1-eb06-4e38-99f2-4eef997f896c.tif"
     ]
    },
    {
     "data": {
      "image/png": "[encoded data removed]",
      "text/plain": [
       "<Figure size 640x480 with 1 Axes>"
      ]
     },
     "metadata": {},
     "output_type": "display_data"
    }
   ],
   "source": [
    "# Make a sample plot of canopy height and the GPR track\n",
    "fig, ax = plt.subplots()\n",
    "show(flcf_ch, ax=ax, cmap='Greens', clim=(0,5))\n",
    "gpr_df.plot(ax=ax, color='blue', markersize=10)\n",
    "plt.tight_layout()"
   ]
  },
  {
   "cell_type": "code",
   "execution_count": null,
   "id": "9b877c06-a26c-45f5-845d-3cd89451f76c",
   "metadata": {},
   "outputs": [],
   "source": [
    "# Load lidar snow depths\n",
    "flcf_sd = RasterMeasurements.from_area(shp=gpr_limits,\n",
    "                                       crs=26906,\n",
    "                                       buffer=None,\n",
    "                                       type='depth',\n",
    "                                       site_name='farmers-creamers',\n",
    "                                       observers='chris larsen'\n",
    "                                      )\n",
    "print(flcf_sd)"
   ]
  },
  {
   "cell_type": "code",
   "execution_count": null,
   "id": "a11eb9b8-5eed-448f-8ef5-a65fd3825c20",
   "metadata": {},
   "outputs": [],
   "source": [
    "# Make a sample plot of snow depth and the GPR track\n",
    "fig, ax = plt.subplots()\n",
    "show(flcf_sd, ax=ax, cmap='Blues', clim=(0,1.5))\n",
    "gpr_df.plot(ax=ax, color='orange', markersize=10)"
   ]
  },
  {
   "cell_type": "markdown",
   "id": "0e04c055-39ba-4e78-ae6d-88c072029042",
   "metadata": {},
   "source": [
    "### Match GPR data with lidar data\n",
    "To match the GPR and lidar data, we can either rasterize the GPR data or vectorize the lidar data. For simplicity, we will vectorize the lidar data and perform a nearest neighbor search.\n",
    "\n",
    "The GPR data is ~0.1 m resolution, whereas the lidar data is ~0.5 m resolution. So, we can expect ~5 GPR data points per lidar pixel."
   ]
  },
  {
   "cell_type": "code",
   "execution_count": null,
   "id": "8ee1f944-3443-4403-9529-1b1d1e831f4b",
   "metadata": {},
   "outputs": [],
   "source": [
    "# Find height and width of array\n",
    "height, width = flcf_sd.read(1).shape\n",
    "\n",
    "# Create arrays of the height, width of the lidar raster\n",
    "cols, rows = np.meshgrid(np.arange(width), np.arange(height))\n",
    "\n",
    "# Get the easting/northing from the lidar raster\n",
    "x_lidar, y_lidar = rio.transform.xy(flcf_sd.transform, rows, cols)\n",
    "\n",
    "# Vectorize the raster data\n",
    "x_lidar_vec = np.array(x_lidar).flatten()\n",
    "y_lidar_vec = np.array(y_lidar).flatten()\n",
    "flcf_sd_vec = flcf_sd.read().flatten()\n",
    "\n",
    "# Pull vectors from GPR GeoDataFrame\n",
    "gpr_arr = np.stack([gpr_df.geometry.x, gpr_df.geometry.y, gpr_df['value']], axis=1)\n",
    "gpr_x = gpr_arr[:,0]\n",
    "gpr_y = gpr_arr[:,1]\n",
    "gpr_twt = gpr_arr[:,2].reshape(len(gpr_arr[:,2]), 1)"
   ]
  },
  {
   "cell_type": "markdown",
   "id": "f7b8c2e0-b20a-4269-be4a-dfc0d6519a90",
   "metadata": {},
   "source": [
    "For the nearest-neighbor approach, we will be using a K-D tree to efficiently find adjacent points."
   ]
  },
  {
   "cell_type": "code",
   "execution_count": null,
   "id": "600d368c-482d-4186-9870-77ce9e588c13",
   "metadata": {},
   "outputs": [],
   "source": [
    "# Create coordinate sets for nearest neighbor search\n",
    "set1 = np.column_stack((x_lidar_vec, y_lidar_vec))\n",
    "set2 = np.column_stack((gpr_x, gpr_y))\n",
    "\n",
    "# Build KDTree from GPR coordinates\n",
    "tree = cKDTree(set2)\n",
    "\n",
    "# Define the search radius (meters)\n",
    "radius = 0.25\n",
    "\n",
    "# Create function to find median travel times\n",
    "def median_travel_time(point, gpr_kdtree, gpr_coordinates, gpr_twt, radius):\n",
    "    indices = tree.query_ball_point(point, radius)\n",
    "    if indices:\n",
    "        # Retrieve travel times for the nearest neighbors\n",
    "        neighbor_twt = gpr_twt[indices]\n",
    "        median_twt = np.median(neighbor_twt)\n",
    "\n",
    "        return median_twt\n",
    "\n",
    "    else:\n",
    "        return np.nan\n",
    "\n",
    "# Find twt medians for each lidar point\n",
    "twt_median = np.array([median_travel_time(point,tree,set2,gpr_twt,radius) for point in set1])\n",
    "print(twt_median)"
   ]
  },
  {
   "cell_type": "markdown",
   "id": "ea45a775-1591-4632-bc61-053fece71f34",
   "metadata": {},
   "source": [
    "The GPR data is not as spatially continuous as the lidar data, so `twt_median` has a lot of NaN values. To reduce memory usage, let's remove those."
   ]
  },
  {
   "cell_type": "code",
   "execution_count": null,
   "id": "2ca27bbb-ffff-4476-8213-de0e6424fd06",
   "metadata": {},
   "outputs": [],
   "source": [
    "# Create mask for GPR NaN values\n",
    "mask = np.isnan(twt_median)\n",
    "\n",
    "# Mask GPR/lidar vectors\n",
    "flcf_sd_vec_clean = flcf_sd_vec[~mask]\n",
    "set1_clean = set1[~mask]\n",
    "twt_median_clean = twt_median[~mask]\n",
    "\n",
    "print(twt_median_clean.shape)"
   ]
  },
  {
   "cell_type": "markdown",
   "id": "fc380b45-be33-472c-b162-651ed29ae582",
   "metadata": {},
   "source": [
    "Now that the data is matched, and we have removed NaN values, we can now calculate relative permittivity and snow density."
   ]
  },
  {
   "cell_type": "code",
   "execution_count": null,
   "id": "68884891-219e-4ce9-af3b-d57eb5bfe0f6",
   "metadata": {},
   "outputs": [],
   "source": [
    "# Calculate relative permittivity\n",
    "c = 0.2998 # Speed of light in a vaccuum\n",
    "e_s = ((c*twt_median_clean) / (2*flcf_sd_vec_clean))**2\n",
    "\n",
    "# Calculate snow density\n",
    "rho_s = ((np.sqrt(e_s)-1) / 0.845)*1000"
   ]
  },
  {
   "cell_type": "markdown",
   "id": "d049894f-f969-40b6-a53a-2b07aff687b2",
   "metadata": {},
   "source": [
    "### Examine the derived densities\n",
    "Now that we've gone through all of this trouble, let's take a look at the derived snow densities."
   ]
  },
  {
   "cell_type": "code",
   "execution_count": null,
   "id": "85f4ec92-816b-4ac7-909d-e67e0bb85ed5",
   "metadata": {},
   "outputs": [],
   "source": [
    "# Plot snow density\n",
    "plt.figure()\n",
    "plt.scatter(set1_clean[:,0], set1_clean[:,1], s=10,\n",
    "            c=rho_s, cmap='viridis', clim=(0,500),\n",
    "            edgecolor=None\n",
    "           )\n",
    "plt.colorbar()\n",
    "plt.title('Snow density [kg m-3]')\n",
    "plt.show()"
   ]
  },
  {
   "cell_type": "markdown",
   "id": "abf1fdcb-2ca5-41ee-8875-fb186547f249",
   "metadata": {},
   "source": [
    "We can also check the histogram distribution of snow density."
   ]
  },
  {
   "cell_type": "code",
   "execution_count": null,
   "id": "83b9a213-62c5-4800-b2b9-6e409d622ad8",
   "metadata": {},
   "outputs": [],
   "source": [
    "# Define bin edges\n",
    "bin_edges = np.arange(np.min(rho_s), np.max(rho_s), 25)\n",
    "\n",
    "# Create the histogram\n",
    "plt.figure()\n",
    "plt.hist(rho_s, bins=bin_edges, edgecolor=None)\n",
    "plt.xlabel('Snow density [kg m-3]')\n",
    "plt.ylabel('Counts')\n",
    "plt.show()"
   ]
  },
  {
   "cell_type": "markdown",
   "id": "e1ea3154-904c-4220-bc20-5dee4c738c27",
   "metadata": {},
   "source": [
    "There's some pretty unrealistic values in the data, so let's zoom in to more realistic densities."
   ]
  },
  {
   "cell_type": "code",
   "execution_count": null,
   "id": "7d398bcb-843e-4bbd-a28c-bf78e51fc1de",
   "metadata": {},
   "outputs": [],
   "source": [
    "# Re-define bin edges\n",
    "bin_edges = np.arange(0, 500, 25)\n",
    "\n",
    "# Create refined histogram\n",
    "plt.figure()\n",
    "plt.hist(rho_s, bins=bin_edges, edgecolor='black')\n",
    "plt.xlabel('Snow density [kg m-3]')\n",
    "plt.ylabel('Counts')\n",
    "plt.show()"
   ]
  },
  {
   "cell_type": "markdown",
   "id": "d71d2fcc-d06b-4897-808b-19a3a2a7e9f6",
   "metadata": {},
   "source": [
    "Even at this range, there is a fair amount of random error. This may be caused by the measurement accuracy of the lidar or the GPR, the depth of the snow, and/or geolocation uncertainty. \n",
    "\n",
    "A user could further improve these densities by upsampling the lidar to match the GPR's geolocation uncertainty (3 m in this case), remove erroneous values in the snow depth or permittivity data, or run a spatial averaging filter."
   ]
  },
  {
   "cell_type": "code",
   "execution_count": null,
   "id": "7255ab7b-1839-4cf2-b80a-3f44b197391b",
   "metadata": {},
   "outputs": [],
   "source": []
  }
 ],
 "metadata": {
  "kernelspec": {
   "display_name": "Python 3 (ipykernel)",
   "language": "python",
   "name": "python3"
  },
  "language_info": {
   "codemirror_mode": {
    "name": "ipython",
    "version": 3
   },
   "file_extension": ".py",
   "mimetype": "text/x-python",
   "name": "python",
   "nbconvert_exporter": "python",
   "pygments_lexer": "ipython3",
   "version": "3.11.11"
  }
 },
 "nbformat": 4,
 "nbformat_minor": 5
}
